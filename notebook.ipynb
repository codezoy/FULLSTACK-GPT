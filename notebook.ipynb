{
 "cells": [
  {
   "cell_type": "markdown",
   "metadata": {},
   "source": [
    "# Predict Text\n",
    "- https://python.langchain.com/"
   ]
  },
  {
   "cell_type": "code",
   "execution_count": 1,
   "metadata": {},
   "outputs": [],
   "source": [
    "from langchain.chat_models import ChatOpenAI, ChatAnthropic\n",
    "\n",
    "chat = ChatOpenAI()\n",
    "\n",
    "# a = llm.predict(\"How many planets are there?\")\n",
    "# b = chat.predict(\"How many planets are there?\")\n"
   ]
  },
  {
   "cell_type": "markdown",
   "metadata": {},
   "source": [
    "# Type of Messages"
   ]
  },
  {
   "cell_type": "code",
   "execution_count": 2,
   "metadata": {},
   "outputs": [
    {
     "data": {
      "text/plain": [
       "AIMessage(content='Ciao! Mi chiamo Paolo. La distanza tra il Messico e la Thailandia è di circa 16.600 chilometri.')"
      ]
     },
     "execution_count": 2,
     "metadata": {},
     "output_type": "execute_result"
    }
   ],
   "source": [
    "from langchain.schema import HumanMessage, AIMessage, SystemMessage\n",
    "\n",
    "messages = [\n",
    "    SystemMessage(content=\"You are a geography expert. And you only reply in Italian\"),\n",
    "    AIMessage(content=\"Ciao, mi chiamo Paolo!\"),\n",
    "    HumanMessage(content=\"What is the distance between Mexico and Thailand? Also, What is your name?\")\n",
    "]\n",
    "\n",
    "chat.predict_messages(messages)\n"
   ]
  },
  {
   "cell_type": "markdown",
   "metadata": {},
   "source": [
    "# Prompt"
   ]
  },
  {
   "cell_type": "code",
   "execution_count": 4,
   "metadata": {},
   "outputs": [
    {
     "data": {
      "text/plain": [
       "'The distance between Mexico and Thailand is approximately 16,000 kilometers (9,942 miles).'"
      ]
     },
     "execution_count": 4,
     "metadata": {},
     "output_type": "execute_result"
    }
   ],
   "source": [
    "from langchain.prompts import PromptTemplate, ChatPromptTemplate\n",
    "chat = ChatOpenAI(temperature=0.1)\n",
    "template = PromptTemplate.from_template(\n",
    "    \"What is distance between {country_a} and {country_b}\"\n",
    ")\n",
    "\n",
    "prompt = template.format(country_a=\"Mexico\", country_b=\"Thailand\")\n",
    "\n",
    "chat.predict(prompt)"
   ]
  },
  {
   "cell_type": "code",
   "execution_count": 8,
   "metadata": {},
   "outputs": [
    {
     "data": {
      "text/plain": [
       "AIMessage(content='Γεια σου! Το όνομά μου είναι Σωκράτης. Η απόσταση μεταξύ του Μεξικού και της Ταϊλάνδης είναι περίπου 17.000 χιλιόμετρα.')"
      ]
     },
     "execution_count": 8,
     "metadata": {},
     "output_type": "execute_result"
    }
   ],
   "source": [
    "template = ChatPromptTemplate.from_messages([\n",
    "    (\"system\", \"You are a geography expert. And you only reply in {language}.\"),\n",
    "    (\"ai\", \"Ciao, mi chiamo {name}!\"),\n",
    "    (\"human\", \"What is the distance between {country_a} and {country_b}? Also, What is your name?\")\n",
    "])\n",
    "\n",
    "prompt = template.format_messages(\n",
    "    language=\"Greek\", name=\"Socrates\", country_a=\"Mexico\", country_b=\"Thailand\"\n",
    ")\n",
    "\n",
    "chat.predict_messages(prompt)"
   ]
  },
  {
   "cell_type": "markdown",
   "metadata": {},
   "source": [
    "# Output Parser"
   ]
  },
  {
   "cell_type": "code",
   "execution_count": 3,
   "metadata": {},
   "outputs": [
    {
     "data": {
      "text/plain": [
       "['Hello', 'how', 'are', 'you']"
      ]
     },
     "execution_count": 3,
     "metadata": {},
     "output_type": "execute_result"
    }
   ],
   "source": [
    "from langchain.schema import BaseOutputParser\n",
    "\n",
    "class CommaOutputParser(BaseOutputParser):\n",
    "\n",
    "    def parse(self, text):\n",
    "        items= text.strip().split(\",\")\n",
    "        return list(map(str.strip,items))\n",
    "\n",
    "p = CommaOutputParser()\n",
    "p.parse(\"Hello, how, are, you\")"
   ]
  },
  {
   "cell_type": "code",
   "execution_count": 11,
   "metadata": {},
   "outputs": [
    {
     "data": {
      "text/plain": [
       "AIMessage(content='mercury, venus, earth, mars, jupiter, saturn, uranus, neptune')"
      ]
     },
     "execution_count": 11,
     "metadata": {},
     "output_type": "execute_result"
    }
   ],
   "source": [
    "from langchain.chat_models import ChatOpenAI\n",
    "from langchain.prompts import PromptTemplate, ChatPromptTemplate\n",
    "\n",
    "chat = ChatOpenAI(temperature=0.1)\n",
    "\n",
    "template = ChatPromptTemplate.from_messages([\n",
    "    (\"system\",\"You are a list generating machine. Everything you are asked will be answered with a comma separated list of max {max_items} in lowercase. DO NOT reply anything else.\"),\n",
    "    (\"human\", \"{question}\")\n",
    "])\n",
    "\n",
    "prompt = template.format_messages(\n",
    "    max_items=10,\n",
    "    question=\"What are the planets?\"\n",
    ")\n",
    "\n",
    "result = chat.predict_messages(prompt)\n",
    "result"
   ]
  },
  {
   "cell_type": "code",
   "execution_count": 13,
   "metadata": {},
   "outputs": [
    {
     "data": {
      "text/plain": [
       "['mercury', 'venus', 'earth', 'mars', 'jupiter', 'saturn', 'uranus', 'neptune']"
      ]
     },
     "execution_count": 13,
     "metadata": {},
     "output_type": "execute_result"
    }
   ],
   "source": [
    "p = CommaOutputParser()\n",
    "p.parse(result.content)"
   ]
  },
  {
   "cell_type": "markdown",
   "metadata": {},
   "source": [
    "## Chain\n",
    "- prompt, result, parse 필요 없음\n",
    "- `chain_one|chain_two|...` 가능!"
   ]
  },
  {
   "cell_type": "code",
   "execution_count": 15,
   "metadata": {},
   "outputs": [
    {
     "data": {
      "text/plain": [
       "['pikachu', 'charizard', 'bulbasaur', 'squirtle', 'jigglypuff']"
      ]
     },
     "execution_count": 15,
     "metadata": {},
     "output_type": "execute_result"
    }
   ],
   "source": [
    "chain1 = template | chat | CommaOutputParser()\n",
    "chain1.invoke({\n",
    "    \"max_items\":5,\n",
    "    \"question\": \"What are the pokemons?\"\n",
    "})"
   ]
  },
  {
   "cell_type": "markdown",
   "metadata": {},
   "source": [
    "# Chaining Chains!"
   ]
  },
  {
   "cell_type": "code",
   "execution_count": 20,
   "metadata": {},
   "outputs": [],
   "source": [
    "from langchain.chat_models import ChatOpenAI\n",
    "from langchain.prompts import ChatPromptTemplate\n",
    "from langchain.callbacks import StreamingStdOutCallbackHandler\n",
    "\n",
    "chat = ChatOpenAI(temperature=0.1, streaming=True, callbacks=[StreamingStdOutCallbackHandler()])\n",
    "chef_prompt = ChatPromptTemplate.from_messages([\n",
    "    (\"system\", \"You are a world-class international chef. You create easy to follow recipies for any type of cuisine with easy to find ingredients.\"),\n",
    "    (\"human\", \"I want to cook {cuisine} food.\")\n",
    "])\n",
    "chef_chain = chef_prompt | chat"
   ]
  },
  {
   "cell_type": "code",
   "execution_count": 21,
   "metadata": {},
   "outputs": [
    {
     "name": "stdout",
     "output_type": "stream",
     "text": [
      "Great choice! Indian cuisine is known for its rich flavors and aromatic spices. Here's a recipe for a classic Indian dish called Butter Chicken:\n",
      "\n",
      "Ingredients:\n",
      "- 500g boneless chicken, cut into bite-sized pieces\n",
      "- 2 tablespoons butter\n",
      "- 1 onion, finely chopped\n",
      "- 2 cloves of garlic, minced\n",
      "- 1-inch piece of ginger, grated\n",
      "- 2 teaspoons garam masala\n",
      "- 1 teaspoon turmeric powder\n",
      "- 1 teaspoon chili powder (adjust to your spice preference)\n",
      "- 1 cup tomato puree\n",
      "- 1/2 cup heavy cream\n",
      "- Salt to taste\n",
      "- Fresh cilantro leaves, for garnish\n",
      "\n",
      "Instructions:\n",
      "1. Heat the butter in a large pan over medium heat. Add the chopped onion and sauté until it turns golden brown.\n",
      "2. Add the minced garlic and grated ginger to the pan. Cook for another minute until fragrant.\n",
      "3. In a small bowl, mix together the garam masala, turmeric powder, and chili powder. Add this spice mixture to the pan and cook for a minute to release the flavors.\n",
      "4. Add the chicken pieces to the pan and cook until they are lightly browned on all sides.\n",
      "5. Pour in the tomato puree and stir well to combine. Reduce the heat to low, cover the pan, and let it simmer for about 15-20 minutes, or until the chicken is cooked through and tender.\n",
      "6. Stir in the heavy cream and season with salt to taste. Simmer for an additional 5 minutes to allow the flavors to meld together.\n",
      "7. Garnish with fresh cilantro leaves and serve hot with steamed rice or naan bread.\n",
      "\n",
      "Enjoy your homemade Butter Chicken!Great choice! Butter Chicken is a delicious and popular Indian dish. To make it vegetarian, you can replace the chicken with a plant-based alternative such as tofu or paneer (Indian cottage cheese). Here's how you can modify the recipe:\n",
      "\n",
      "Ingredients:\n",
      "- 500g tofu or paneer, cut into bite-sized pieces\n",
      "- 2 tablespoons butter (you can use vegan butter or coconut oil as a substitute)\n",
      "- 1 onion, finely chopped\n",
      "- 2 cloves of garlic, minced\n",
      "- 1-inch piece of ginger, grated\n",
      "- 2 teaspoons garam masala\n",
      "- 1 teaspoon turmeric powder\n",
      "- 1 teaspoon chili powder (adjust to your spice preference)\n",
      "- 1 cup tomato puree\n",
      "- 1/2 cup coconut cream (as a substitute for heavy cream)\n",
      "- Salt to taste\n",
      "- Fresh cilantro leaves, for garnish\n",
      "\n",
      "Instructions:\n",
      "1. Heat the butter (or vegan butter/coconut oil) in a large pan over medium heat. Add the chopped onion and sauté until it turns golden brown.\n",
      "2. Add the minced garlic and grated ginger to the pan. Cook for another minute until fragrant.\n",
      "3. In a small bowl, mix together the garam masala, turmeric powder, and chili powder. Add this spice mixture to the pan and cook for a minute to release the flavors.\n",
      "4. Add the tofu or paneer pieces to the pan and cook until they are lightly browned on all sides.\n",
      "5. Pour in the tomato puree and stir well to combine. Reduce the heat to low, cover the pan, and let it simmer for about 15-20 minutes, or until the tofu or paneer is heated through and tender.\n",
      "6. Stir in the coconut cream and season with salt to taste. Simmer for an additional 5 minutes to allow the flavors to meld together.\n",
      "7. Garnish with fresh cilantro leaves and serve hot with steamed rice or naan bread.\n",
      "\n",
      "Enjoy your vegetarian Butter Chicken!"
     ]
    },
    {
     "data": {
      "text/plain": [
       "AIMessageChunk(content=\"Great choice! Butter Chicken is a delicious and popular Indian dish. To make it vegetarian, you can replace the chicken with a plant-based alternative such as tofu or paneer (Indian cottage cheese). Here's how you can modify the recipe:\\n\\nIngredients:\\n- 500g tofu or paneer, cut into bite-sized pieces\\n- 2 tablespoons butter (you can use vegan butter or coconut oil as a substitute)\\n- 1 onion, finely chopped\\n- 2 cloves of garlic, minced\\n- 1-inch piece of ginger, grated\\n- 2 teaspoons garam masala\\n- 1 teaspoon turmeric powder\\n- 1 teaspoon chili powder (adjust to your spice preference)\\n- 1 cup tomato puree\\n- 1/2 cup coconut cream (as a substitute for heavy cream)\\n- Salt to taste\\n- Fresh cilantro leaves, for garnish\\n\\nInstructions:\\n1. Heat the butter (or vegan butter/coconut oil) in a large pan over medium heat. Add the chopped onion and sauté until it turns golden brown.\\n2. Add the minced garlic and grated ginger to the pan. Cook for another minute until fragrant.\\n3. In a small bowl, mix together the garam masala, turmeric powder, and chili powder. Add this spice mixture to the pan and cook for a minute to release the flavors.\\n4. Add the tofu or paneer pieces to the pan and cook until they are lightly browned on all sides.\\n5. Pour in the tomato puree and stir well to combine. Reduce the heat to low, cover the pan, and let it simmer for about 15-20 minutes, or until the tofu or paneer is heated through and tender.\\n6. Stir in the coconut cream and season with salt to taste. Simmer for an additional 5 minutes to allow the flavors to meld together.\\n7. Garnish with fresh cilantro leaves and serve hot with steamed rice or naan bread.\\n\\nEnjoy your vegetarian Butter Chicken!\")"
      ]
     },
     "execution_count": 21,
     "metadata": {},
     "output_type": "execute_result"
    }
   ],
   "source": [
    "veg_chef_prompt = ChatPromptTemplate.from_messages([\n",
    "    (\"system\", \"You are a vegetarian chef specialized on making traditional recipies vegetarian. You find alternative ingredients and explain their preparation. You don't radically modify the recipe. If there is no alternative for a food just say you don't know how to replace it.\"),\n",
    "    (\"human\", \"{recipe}\")\n",
    "])\n",
    "\n",
    "veg_chain = veg_chef_prompt | chat\n",
    "final_chain = {\"recipe\": chef_chain} | veg_chain\n",
    "result = final_chain.invoke({\n",
    "    \"cuisine\": \"indian\"    \n",
    "})\n",
    "result"
   ]
  },
  {
   "cell_type": "markdown",
   "metadata": {},
   "source": [
    "# 4.1. FewShotPromptTemplate"
   ]
  },
  {
   "cell_type": "code",
   "execution_count": 25,
   "metadata": {},
   "outputs": [
    {
     "name": "stderr",
     "output_type": "stream",
     "text": [
      "WARNING! template is not default parameter.\n",
      "                    template was transferred to model_kwargs.\n",
      "                    Please confirm that template is what you intended.\n"
     ]
    },
    {
     "data": {
      "text/plain": [
       "'What is the capital of France'"
      ]
     },
     "execution_count": 25,
     "metadata": {},
     "output_type": "execute_result"
    }
   ],
   "source": [
    "from langchain.chat_models import ChatOpenAI\n",
    "from langchain.prompts import PromptTemplate\n",
    "from langchain.prompts.few_shot import FewShotPromptTemplate\n",
    "from langchain.callbacks import StreamingStdOutCallbackHandler\n",
    "\n",
    "chat = ChatOpenAI(\n",
    "    temperature=0.1,\n",
    "    streaming=True,\n",
    "    callbacks=[\n",
    "        StreamingStdOutCallbackHandler(),\n",
    "    ],\n",
    ")\n",
    "\n",
    "t = PromptTemplate(\n",
    "    template=\"What is the capital of {country}\",\n",
    "    input_variables=[\"country\"]\n",
    ")\n",
    "t.format(country=\"France\")"
   ]
  },
  {
   "cell_type": "code",
   "execution_count": 26,
   "metadata": {},
   "outputs": [
    {
     "data": {
      "text/plain": [
       "'What is the capital of France'"
      ]
     },
     "execution_count": 26,
     "metadata": {},
     "output_type": "execute_result"
    }
   ],
   "source": [
    "t = PromptTemplate.from_template(\"What is the capital of {country}\")\n",
    "t.format(country=\"France\")"
   ]
  },
  {
   "cell_type": "code",
   "execution_count": 30,
   "metadata": {},
   "outputs": [
    {
     "name": "stdout",
     "output_type": "stream",
     "text": [
      "France is a country located in Western Europe. It is known for its rich history, culture, and contributions to art, literature, and philosophy. Here are some key points about France:\n",
      "\n",
      "1. Capital: The capital city of France is Paris, which is also its largest city.\n",
      "\n",
      "2. Language: The official language is French, and it is spoken by the majority of the population.\n",
      "\n",
      "3. Geography: France shares borders with several countries, including Belgium, Luxembourg, Germany, Switzerland, Italy, Spain, and Andorra. It also has coastlines along the Mediterranean Sea, the Atlantic Ocean, and the English Channel.\n",
      "\n",
      "4. History: France has a long and complex history, with significant events such as the French Revolution, the Napoleonic era, and World War II shaping its development.\n",
      "\n",
      "5. Culture: France is renowned for its cultural heritage, including its cuisine, fashion, art, and literature. It is home to iconic landmarks like the Eiffel Tower, Louvre Museum, and Notre-Dame Cathedral.\n",
      "\n",
      "6. Gastronomy: French cuisine is highly regarded worldwide, with dishes like escargots, foie gras, croissants, baguettes, and various cheeses being famous examples.\n",
      "\n",
      "7. Wine: France is one of the world's leading wine producers, known for its regions like Bordeaux, Burgundy, Champagne, and the Loire Valley.\n",
      "\n",
      "8. Tourism: France is a popular tourist destination, attracting millions of visitors each year. Besides Paris, other notable attractions include the French Riviera, the Palace of Versailles, Mont Saint-Michel, and the French Alps.\n",
      "\n",
      "9. Sports: Football (soccer) is the most popular sport in France, and the country has a successful national team. Other popular sports include rugby, cycling, tennis, and skiing.\n",
      "\n",
      "10. European Union: France is a founding member of the European Union (EU) and plays a significant role in European politics and economics.\n",
      "\n",
      "These are just a few highlights about France, and there is much more to explore and learn about this fascinating country."
     ]
    },
    {
     "data": {
      "text/plain": [
       "\"France is a country located in Western Europe. It is known for its rich history, culture, and contributions to art, literature, and philosophy. Here are some key points about France:\\n\\n1. Capital: The capital city of France is Paris, which is also its largest city.\\n\\n2. Language: The official language is French, and it is spoken by the majority of the population.\\n\\n3. Geography: France shares borders with several countries, including Belgium, Luxembourg, Germany, Switzerland, Italy, Spain, and Andorra. It also has coastlines along the Mediterranean Sea, the Atlantic Ocean, and the English Channel.\\n\\n4. History: France has a long and complex history, with significant events such as the French Revolution, the Napoleonic era, and World War II shaping its development.\\n\\n5. Culture: France is renowned for its cultural heritage, including its cuisine, fashion, art, and literature. It is home to iconic landmarks like the Eiffel Tower, Louvre Museum, and Notre-Dame Cathedral.\\n\\n6. Gastronomy: French cuisine is highly regarded worldwide, with dishes like escargots, foie gras, croissants, baguettes, and various cheeses being famous examples.\\n\\n7. Wine: France is one of the world's leading wine producers, known for its regions like Bordeaux, Burgundy, Champagne, and the Loire Valley.\\n\\n8. Tourism: France is a popular tourist destination, attracting millions of visitors each year. Besides Paris, other notable attractions include the French Riviera, the Palace of Versailles, Mont Saint-Michel, and the French Alps.\\n\\n9. Sports: Football (soccer) is the most popular sport in France, and the country has a successful national team. Other popular sports include rugby, cycling, tennis, and skiing.\\n\\n10. European Union: France is a founding member of the European Union (EU) and plays a significant role in European politics and economics.\\n\\nThese are just a few highlights about France, and there is much more to explore and learn about this fascinating country.\""
      ]
     },
     "execution_count": 30,
     "metadata": {},
     "output_type": "execute_result"
    }
   ],
   "source": [
    "chat = ChatOpenAI(\n",
    "    temperature=0.1,\n",
    "    streaming=True,\n",
    "    callbacks=[\n",
    "        StreamingStdOutCallbackHandler(),\n",
    "    ],\n",
    ")\n",
    "\n",
    "examples = [\n",
    "{\n",
    "\"question\": \"What do you know about France?\",\n",
    "\"answer\": \"\"\"\n",
    "Here is what I know:\n",
    "Capital: Paris\n",
    "Language: French\n",
    "Food: Wine and Cheese\n",
    "Currency: Euro\n",
    "\"\"\",\n",
    "},\n",
    "{\n",
    "\"question\": \"What do you know about Italy?\",\n",
    "\"answer\": \"\"\"\n",
    "I know this:\n",
    "Capital: Rome\n",
    "Language: Italian\n",
    "Food: Pizza and Pasta\n",
    "Currency: Euro\n",
    "\"\"\",\n",
    "},\n",
    "{\n",
    "\"question\": \"What do you know about Greece?\",\n",
    "\"answer\": \"\"\"\n",
    "I know this:\n",
    "Capital: Athens\n",
    "Language: Greek\n",
    "Food: Souvlaki and Feta Cheese\n",
    "Currency: Euro\n",
    "\"\"\",\n",
    "},\n",
    "]\n",
    "\n",
    "chat.predict(\"What do you know about France?\")"
   ]
  },
  {
   "cell_type": "code",
   "execution_count": 32,
   "metadata": {},
   "outputs": [
    {
     "name": "stdout",
     "output_type": "stream",
     "text": [
      "I know this:\n",
      "Capital: Berlin\n",
      "Language: German\n",
      "Food: Bratwurst and Sauerkraut\n",
      "Currency: Euro"
     ]
    },
    {
     "data": {
      "text/plain": [
       "AIMessageChunk(content='I know this:\\nCapital: Berlin\\nLanguage: German\\nFood: Bratwurst and Sauerkraut\\nCurrency: Euro')"
      ]
     },
     "execution_count": 32,
     "metadata": {},
     "output_type": "execute_result"
    }
   ],
   "source": [
    "example_template = \"\"\"\n",
    "    Human: {question}\n",
    "    AI: {answer}\n",
    "\"\"\"\n",
    "\n",
    "example_prompt = PromptTemplate.from_template(\"Human:{question}\\nAI:{answer}\")\n",
    "\n",
    "prompt = FewShotPromptTemplate(\n",
    "    example_prompt=example_prompt,\n",
    "    examples=examples,\n",
    "    suffix=\"What do you know about {country}?\",\n",
    "    input_variables=[\"country\"]\n",
    ")\n",
    "\n",
    "prompt.format(country=\"Germany\")\n",
    "\n",
    "chain = prompt | chat\n",
    "\n",
    "chain.invoke({\n",
    "    \"country\":\"Germany\"\n",
    "})"
   ]
  },
  {
   "cell_type": "markdown",
   "metadata": {},
   "source": [
    "# 4.2 FewShotChatMessagePromptTemplate\n",
    "- `ChatPromptTemplate` , `FewShotChatMessagePromptTemplate`"
   ]
  },
  {
   "cell_type": "code",
   "execution_count": 3,
   "metadata": {},
   "outputs": [
    {
     "name": "stdout",
     "output_type": "stream",
     "text": [
      "I know this:\n",
      "Capital: Berlin\n",
      "Language: German\n",
      "Food: Bratwurst and Sauerkraut\n",
      "Currency: Euro"
     ]
    },
    {
     "data": {
      "text/plain": [
       "AIMessageChunk(content='I know this:\\nCapital: Berlin\\nLanguage: German\\nFood: Bratwurst and Sauerkraut\\nCurrency: Euro')"
      ]
     },
     "execution_count": 3,
     "metadata": {},
     "output_type": "execute_result"
    }
   ],
   "source": [
    "from langchain.chat_models import ChatOpenAI\n",
    "from langchain.prompts.few_shot import FewShotChatMessagePromptTemplate\n",
    "from langchain.callbacks import StreamingStdOutCallbackHandler\n",
    "from langchain.prompts import ChatPromptTemplate\n",
    "\n",
    "chat = ChatOpenAI(\n",
    "    temperature=0.1,\n",
    "    streaming=True,\n",
    "    callbacks=[\n",
    "        StreamingStdOutCallbackHandler(),\n",
    "    ],\n",
    ")\n",
    "\n",
    "examples = [\n",
    "{\n",
    "\"country\": \"France\",\n",
    "\"answer\": \"\"\"\n",
    "Here is what I know:\n",
    "Capital: Paris\n",
    "Language: French\n",
    "Food: Wine and Cheese\n",
    "Currency: Euro\n",
    "\"\"\",\n",
    "},\n",
    "{\n",
    "\"country\": \"Italy\",\n",
    "\"answer\": \"\"\"\n",
    "I know this:\n",
    "Capital: Rome\n",
    "Language: Italian\n",
    "Food: Pizza and Pasta\n",
    "Currency: Euro\n",
    "\"\"\",\n",
    "},\n",
    "{\n",
    "\"country\": \"Greece\",\n",
    "\"answer\": \"\"\"\n",
    "I know this:\n",
    "Capital: Athens\n",
    "Language: Greek\n",
    "Food: Souvlaki and Feta Cheese\n",
    "Currency: Euro\n",
    "\"\"\",\n",
    "},\n",
    "]\n",
    "\n",
    "\n",
    "\n",
    "example_prompt = ChatPromptTemplate.from_messages([\n",
    "    (\"human\", \"What do you know about {country}?\"),\n",
    "    (\"ai\", \"{answer}\")\n",
    "])\n",
    "\n",
    "example_prompt = FewShotChatMessagePromptTemplate(\n",
    "    example_prompt=example_prompt,\n",
    "    examples=examples,\n",
    ")\n",
    "\n",
    "final_prompt = ChatPromptTemplate.from_messages([\n",
    "    (\"system\", \"You are a geography expert, you give short formalized answers.\"),\n",
    "    example_prompt,\n",
    "    (\"human\",  \"What do you know about {country}?\")\n",
    "])\n",
    "\n",
    "chain = final_prompt | chat\n",
    "\n",
    "chain.invoke({\"country\":\"Germany\"})"
   ]
  },
  {
   "cell_type": "code",
   "execution_count": 4,
   "metadata": {},
   "outputs": [
    {
     "name": "stdout",
     "output_type": "stream",
     "text": [
      "I know this:\n",
      "Capital: Bangkok\n",
      "Language: Thai\n",
      "Food: Pad Thai and Tom Yum Soup\n",
      "Currency: Thai Baht"
     ]
    },
    {
     "data": {
      "text/plain": [
       "AIMessageChunk(content='I know this:\\nCapital: Bangkok\\nLanguage: Thai\\nFood: Pad Thai and Tom Yum Soup\\nCurrency: Thai Baht')"
      ]
     },
     "execution_count": 4,
     "metadata": {},
     "output_type": "execute_result"
    }
   ],
   "source": [
    "chain.invoke({\"country\":\"Thailand\"})"
   ]
  },
  {
   "cell_type": "markdown",
   "metadata": {},
   "source": [
    "# 4.3. LengthBasedExampleSelector!"
   ]
  },
  {
   "cell_type": "code",
   "execution_count": 9,
   "metadata": {},
   "outputs": [
    {
     "data": {
      "text/plain": [
       "'Human: France\\nAI:\\nHere is what I know:\\nCapital: Paris\\nLanguage: French\\nFood: Wine and Cheese\\nCurrency: Euro\\n\\n\\nHuman: Italy\\nAI:\\nI know this:\\nCapital: Rome\\nLanguage: Italian\\nFood: Pizza and Pasta\\nCurrency: Euro\\n\\n\\nHuman: Greece\\nAI:\\nI know this:\\nCapital: Athens\\nLanguage: Greek\\nFood: Souvlaki and Feta Cheese\\nCurrency: Euro\\n\\n\\nHuman: What do you know about Brazil?'"
      ]
     },
     "execution_count": 9,
     "metadata": {},
     "output_type": "execute_result"
    }
   ],
   "source": [
    "from langchain.chat_models import ChatOpenAI\n",
    "from langchain.prompts.few_shot import FewShotChatMessagePromptTemplate\n",
    "from langchain.callbacks import StreamingStdOutCallbackHandler\n",
    "from langchain.prompts.few_shot import FewShotPromptTemplate\n",
    "from langchain.prompts import PromptTemplate\n",
    "from langchain.prompts.example_selector import LengthBasedExampleSelector\n",
    "from langchain.prompts.example_selector.base import BaseExampleSelector\n",
    "\n",
    "chat = ChatOpenAI(\n",
    "    temperature=0.1,\n",
    "    streaming=True,\n",
    "    callbacks=[\n",
    "        StreamingStdOutCallbackHandler(),\n",
    "    ],\n",
    ")\n",
    "\n",
    "examples = [\n",
    "{\n",
    "\"country\": \"France\",\n",
    "\"answer\": \"\"\"\n",
    "Here is what I know:\n",
    "Capital: Paris\n",
    "Language: French\n",
    "Food: Wine and Cheese\n",
    "Currency: Euro\n",
    "\"\"\",\n",
    "},\n",
    "{\n",
    "\"country\": \"Italy\",\n",
    "\"answer\": \"\"\"\n",
    "I know this:\n",
    "Capital: Rome\n",
    "Language: Italian\n",
    "Food: Pizza and Pasta\n",
    "Currency: Euro\n",
    "\"\"\",\n",
    "},\n",
    "{\n",
    "\"country\": \"Greece\",\n",
    "\"answer\": \"\"\"\n",
    "I know this:\n",
    "Capital: Athens\n",
    "Language: Greek\n",
    "Food: Souvlaki and Feta Cheese\n",
    "Currency: Euro\n",
    "\"\"\",\n",
    "},\n",
    "]\n",
    "\n",
    "\n",
    "\n",
    "example_prompt = PromptTemplate.from_template(\"Human: {country}\\nAI:{answer}\")\n",
    "\n",
    "example_selector = LengthBasedExampleSelector(\n",
    "    examples=examples,\n",
    "    example_prompt=example_prompt,\n",
    "    max_length=180,\n",
    ")\n",
    "\n",
    "prompt = FewShotPromptTemplate(\n",
    "    example_prompt=example_prompt,\n",
    "    example_selector=example_selector,\n",
    "    suffix=\"Human: What do you know about {country}?\",\n",
    "    input_variables=[\"country\"],\n",
    ")\n",
    "\n",
    "prompt.format(country=\"Brazil\")"
   ]
  },
  {
   "cell_type": "markdown",
   "metadata": {},
   "source": [
    "## My Own Example Selector!"
   ]
  },
  {
   "cell_type": "code",
   "execution_count": 23,
   "metadata": {},
   "outputs": [
    {
     "data": {
      "text/plain": [
       "'Human: Italy\\nAI:\\nI know this:\\nCapital: Rome\\nLanguage: Italian\\nFood: Pizza and Pasta\\nCurrency: Euro\\n\\n\\nHuman: What do you know about Brazil?'"
      ]
     },
     "execution_count": 23,
     "metadata": {},
     "output_type": "execute_result"
    }
   ],
   "source": [
    "from langchain.chat_models import ChatOpenAI\n",
    "from langchain.prompts.few_shot import FewShotChatMessagePromptTemplate\n",
    "from langchain.callbacks import StreamingStdOutCallbackHandler\n",
    "from langchain.prompts.few_shot import FewShotPromptTemplate\n",
    "from langchain.prompts import PromptTemplate\n",
    "from langchain.prompts.example_selector import LengthBasedExampleSelector\n",
    "from langchain.prompts.example_selector.base import BaseExampleSelector\n",
    "\n",
    "\n",
    "\n",
    "\n",
    "\n",
    "chat = ChatOpenAI(\n",
    "    temperature=0.1,\n",
    "    streaming=True,\n",
    "    callbacks=[\n",
    "        StreamingStdOutCallbackHandler(),\n",
    "    ],\n",
    ")\n",
    "\n",
    "examples = [\n",
    "{\n",
    "\"country\": \"France\",\n",
    "\"answer\": \"\"\"\n",
    "Here is what I know:\n",
    "Capital: Paris\n",
    "Language: French\n",
    "Food: Wine and Cheese\n",
    "Currency: Euro\n",
    "\"\"\",\n",
    "},\n",
    "{\n",
    "\"country\": \"Italy\",\n",
    "\"answer\": \"\"\"\n",
    "I know this:\n",
    "Capital: Rome\n",
    "Language: Italian\n",
    "Food: Pizza and Pasta\n",
    "Currency: Euro\n",
    "\"\"\",\n",
    "},\n",
    "{\n",
    "\"country\": \"Greece\",\n",
    "\"answer\": \"\"\"\n",
    "I know this:\n",
    "Capital: Athens\n",
    "Language: Greek\n",
    "Food: Souvlaki and Feta Cheese\n",
    "Currency: Euro\n",
    "\"\"\",\n",
    "},\n",
    "]\n",
    "\n",
    "class RandomExampleSelector(BaseExampleSelector):\n",
    "\n",
    "    def __init__(self, examples):\n",
    "        self.examples = examples\n",
    "\n",
    "    def add_example(self, examples):\n",
    "        self.examples.append(examples)\n",
    "\n",
    "    def select_examples(self, examples):\n",
    "        from random import choice\n",
    "        return [choice(self.examples)]\n",
    "\n",
    "example_prompt = PromptTemplate.from_template(\"Human: {country}\\nAI:{answer}\")\n",
    "\n",
    "example_selector = RandomExampleSelector(\n",
    "    examples=examples,\n",
    ")\n",
    "\n",
    "prompt = FewShotPromptTemplate(\n",
    "    example_prompt=example_prompt,\n",
    "    example_selector=example_selector,\n",
    "    suffix=\"Human: What do you know about {country}?\",\n",
    "    input_variables=[\"country\"],\n",
    ")\n",
    "\n",
    "prompt.format(country=\"Brazil\")"
   ]
  },
  {
   "cell_type": "markdown",
   "metadata": {},
   "source": [
    "# 4.4. Serialization and Composition"
   ]
  },
  {
   "cell_type": "code",
   "execution_count": 30,
   "metadata": {},
   "outputs": [
    {
     "data": {
      "text/plain": [
       "'What is the capital of Germany'"
      ]
     },
     "execution_count": 30,
     "metadata": {},
     "output_type": "execute_result"
    }
   ],
   "source": [
    "from langchain.chat_models import ChatOpenAI\n",
    "from langchain.callbacks import StreamingStdOutCallbackHandler\n",
    "from langchain.prompts import load_prompt\n",
    "\n",
    "# prompt = load_prompt(\"./prompt.json\")\n",
    "prompt = load_prompt(\"./prompt.yaml\")\n",
    "\n",
    "\n",
    "\n",
    "chat = ChatOpenAI(\n",
    "    temperature=0.1,\n",
    "    streaming=True,\n",
    "    callbacks=[\n",
    "        StreamingStdOutCallbackHandler(),\n",
    "    ],\n",
    ")\n",
    "prompt.format(country=\"Germany\")\n"
   ]
  },
  {
   "cell_type": "markdown",
   "metadata": {},
   "source": [
    "## 합치기?"
   ]
  },
  {
   "cell_type": "code",
   "execution_count": 33,
   "metadata": {},
   "outputs": [
    {
     "data": {
      "text/plain": [
       "'\\n    \\n    You are a role playing assistant.\\n    And you are impersonating a Pirate\\n\\n                                     \\n    \\n    This is an example of how you talk:\\n\\n    Human: What is your Location?\\n    You: Arrrrg! That is a secret!! Arg Arg\\n\\n                              \\n    \\n    Start now!\\n\\n    Human: What is your Favorate Food?\\n    You:\\n\\n'"
      ]
     },
     "execution_count": 33,
     "metadata": {},
     "output_type": "execute_result"
    }
   ],
   "source": [
    "from langchain.chat_models import ChatOpenAI\n",
    "from langchain.callbacks import StreamingStdOutCallbackHandler\n",
    "from langchain.prompts.pipeline import PipelinePromptTemplate\n",
    "\n",
    "\n",
    "\n",
    "\n",
    "chat = ChatOpenAI(\n",
    "    temperature=0.1,\n",
    "    streaming=True,\n",
    "    callbacks=[\n",
    "        StreamingStdOutCallbackHandler(),\n",
    "    ],\n",
    ")\n",
    "\n",
    "\n",
    "intro = PromptTemplate.from_template(\n",
    "    \"\"\"\n",
    "    You are a role playing assistant.\n",
    "    And you are impersonating a {character}\n",
    "\"\"\"\n",
    ")\n",
    "\n",
    "example = PromptTemplate.from_template(\n",
    "    \"\"\"\n",
    "    This is an example of how you talk:\n",
    "\n",
    "    Human: {example_question}\n",
    "    You: {example_answer}\n",
    "\"\"\"\n",
    ")\n",
    "\n",
    "start = PromptTemplate.from_template(\n",
    "    \"\"\"\n",
    "    Start now!\n",
    "\n",
    "    Human: {question}\n",
    "    You:\n",
    "\"\"\"\n",
    ")\n",
    "\n",
    "final = PromptTemplate.from_template(\n",
    "    \"\"\"\n",
    "    {intro}\n",
    "                                     \n",
    "    {example}\n",
    "                              \n",
    "    {start}\n",
    "\"\"\"\n",
    ")\n",
    "\n",
    "prompts = [\n",
    "    (\"intro\", intro),\n",
    "    (\"example\", example),\n",
    "    (\"start\", start),\n",
    "]\n",
    "\n",
    "\n",
    "full_prompt = PipelinePromptTemplate(\n",
    "    final_prompt=final,\n",
    "    pipeline_prompts=prompts,\n",
    ")\n",
    "\n",
    "\n",
    "full_prompt.format(\n",
    "    character=\"Pirate\",\n",
    "    example_question=\"What is your Location?\",\n",
    "    example_answer=\"Arrrrg! That is a secret!! Arg Arg\",\n",
    "    question=\"What is your Favorate Food?\"\n",
    ")"
   ]
  },
  {
   "cell_type": "code",
   "execution_count": 34,
   "metadata": {},
   "outputs": [
    {
     "name": "stdout",
     "output_type": "stream",
     "text": [
      "Arrrrg, me heartie! Me favorite food be none other than a hearty plate o' salted fish and hardtack! It be the sustenance that keeps me goin' on the high seas! Arg arg!"
     ]
    },
    {
     "data": {
      "text/plain": [
       "AIMessageChunk(content=\"Arrrrg, me heartie! Me favorite food be none other than a hearty plate o' salted fish and hardtack! It be the sustenance that keeps me goin' on the high seas! Arg arg!\")"
      ]
     },
     "execution_count": 34,
     "metadata": {},
     "output_type": "execute_result"
    }
   ],
   "source": [
    "chain = full_prompt | chat\n",
    "chain.invoke(\n",
    "    {\n",
    "        \"character\": \"Pirate\",\n",
    "        \"example_question\": \"What is your location?\",\n",
    "        \"example_answer\": \"Arrrrg! That is a secret!! Arg arg!!\",\n",
    "        \"question\": \"What is your fav food?\",\n",
    "    }\n",
    ")"
   ]
  },
  {
   "cell_type": "markdown",
   "metadata": {},
   "source": [
    "# 4.5. Caching\n",
    "- memory cache!"
   ]
  },
  {
   "cell_type": "code",
   "execution_count": 35,
   "metadata": {},
   "outputs": [
    {
     "data": {
      "text/plain": [
       "\"To make Italian pasta, you will need the following ingredients:\\n\\n- 2 cups of all-purpose flour\\n- 2 large eggs\\n- 1/2 teaspoon of salt\\n- Water (if needed)\\n\\nHere's a step-by-step guide to making Italian pasta:\\n\\n1. On a clean surface or in a large mixing bowl, pour the flour and create a well in the center.\\n2. Crack the eggs into the well and add the salt.\\n3. Using a fork or your fingers, gradually mix the eggs and salt into the flour, incorporating a little bit at a time.\\n4. Once the dough starts to come together, knead it with your hands until it forms a smooth and elastic ball. If the dough feels too dry, you can add a little water, one tablespoon at a time, until it reaches the desired consistency.\\n5. Once the dough is formed, cover it with a clean kitchen towel or plastic wrap and let it rest for about 30 minutes. This will allow the gluten to relax and make the dough easier to work with.\\n6. After resting, divide the dough into smaller portions. You can use a pasta machine or a rolling pin to roll out the dough into thin sheets. If using a pasta machine, start with the widest setting and gradually decrease the thickness until you reach the desired thickness for your pasta.\\n7. Once the dough is rolled out, you can cut it into your desired pasta shape. Common shapes include fettuccine, spaghetti, lasagna sheets, or ravioli squares.\\n8. If making long pasta shapes like spaghetti or fettuccine, you can hang them on a drying rack or lay them flat on a clean surface to dry for a few minutes before cooking.\\n9. To cook the pasta, bring a large pot of salted water to a boil. Add the pasta and cook until al dente, which means it should still have a slight bite to it. The cooking time will vary depending on the thickness of your pasta, so it's best to taste it as it cooks.\\n10. Once cooked, drain the pasta and toss it with your favorite sauce or toppings. Serve immediately and enjoy your homemade Italian pasta!\\n\\nNote: If you don't have the time or resources to make fresh pasta from scratch, you can also use store-bought dried pasta, which is readily available in most grocery stores.\""
      ]
     },
     "execution_count": 35,
     "metadata": {},
     "output_type": "execute_result"
    }
   ],
   "source": [
    "from langchain.chat_models import ChatOpenAI\n",
    "from langchain.callbacks import StreamingStdOutCallbackHandler\n",
    "from langchain.globals import set_llm_cache\n",
    "from langchain.cache import InMemoryCache\n",
    "\n",
    "set_llm_cache(InMemoryCache())\n",
    "set_debug(True)\n",
    "\n",
    "\n",
    "\n",
    "\n",
    "chat = ChatOpenAI(\n",
    "    temperature=0.1,\n",
    "    # streaming=True,\n",
    "    # callbacks=[\n",
    "    #     StreamingStdOutCallbackHandler(),\n",
    "    # ],\n",
    ")\n",
    "\n",
    "chat.predict(\"How do you make italian pasta\")\n",
    "# 19.4sec"
   ]
  },
  {
   "cell_type": "code",
   "execution_count": 36,
   "metadata": {},
   "outputs": [
    {
     "data": {
      "text/plain": [
       "\"To make Italian pasta, you will need the following ingredients:\\n\\n- 2 cups of all-purpose flour\\n- 2 large eggs\\n- 1/2 teaspoon of salt\\n- Water (if needed)\\n\\nHere's a step-by-step guide to making Italian pasta:\\n\\n1. On a clean surface or in a large mixing bowl, pour the flour and create a well in the center.\\n2. Crack the eggs into the well and add the salt.\\n3. Using a fork or your fingers, gradually mix the eggs and salt into the flour, incorporating a little bit at a time.\\n4. Once the dough starts to come together, knead it with your hands until it forms a smooth and elastic ball. If the dough feels too dry, you can add a little water, one tablespoon at a time, until it reaches the desired consistency.\\n5. Once the dough is formed, cover it with a clean kitchen towel or plastic wrap and let it rest for about 30 minutes. This will allow the gluten to relax and make the dough easier to work with.\\n6. After resting, divide the dough into smaller portions. You can use a pasta machine or a rolling pin to roll out the dough into thin sheets. If using a pasta machine, start with the widest setting and gradually decrease the thickness until you reach the desired thickness for your pasta.\\n7. Once the dough is rolled out, you can cut it into your desired pasta shape. Common shapes include fettuccine, spaghetti, lasagna sheets, or ravioli squares.\\n8. If making long pasta shapes like spaghetti or fettuccine, you can hang them on a drying rack or lay them flat on a clean surface to dry for a few minutes before cooking.\\n9. To cook the pasta, bring a large pot of salted water to a boil. Add the pasta and cook until al dente, which means it should still have a slight bite to it. The cooking time will vary depending on the thickness of your pasta, so it's best to taste it as it cooks.\\n10. Once cooked, drain the pasta and toss it with your favorite sauce or toppings. Serve immediately and enjoy your homemade Italian pasta!\\n\\nNote: If you don't have the time or resources to make fresh pasta from scratch, you can also use store-bought dried pasta, which is readily available in most grocery stores.\""
      ]
     },
     "execution_count": 36,
     "metadata": {},
     "output_type": "execute_result"
    }
   ],
   "source": [
    "chat.predict(\"How do you make italian pasta\")\n",
    "# 0.0sec"
   ]
  },
  {
   "cell_type": "markdown",
   "metadata": {},
   "source": [
    "## Set Debug"
   ]
  },
  {
   "cell_type": "code",
   "execution_count": 37,
   "metadata": {},
   "outputs": [
    {
     "name": "stdout",
     "output_type": "stream",
     "text": [
      "\u001b[32;1m\u001b[1;3m[llm/start]\u001b[0m \u001b[1m[1:llm:ChatOpenAI] Entering LLM run with input:\n",
      "\u001b[0m{\n",
      "  \"prompts\": [\n",
      "    \"Human: How do you make italian pasta\"\n",
      "  ]\n",
      "}\n",
      "\u001b[36;1m\u001b[1;3m[llm/end]\u001b[0m \u001b[1m[1:llm:ChatOpenAI] [20.16s] Exiting LLM run with output:\n",
      "\u001b[0m{\n",
      "  \"generations\": [\n",
      "    [\n",
      "      {\n",
      "        \"text\": \"To make Italian pasta, you will need the following ingredients:\\n\\n- 2 cups of all-purpose flour\\n- 2 large eggs\\n- 1/2 teaspoon of salt\\n- Water (if needed)\\n\\nHere's a step-by-step guide to making Italian pasta:\\n\\n1. On a clean surface or in a large mixing bowl, pour the flour and create a well in the center.\\n2. Crack the eggs into the well and add the salt.\\n3. Using a fork or your fingers, gradually mix the eggs and salt into the flour, incorporating a little at a time.\\n4. Once the dough starts to come together, knead it with your hands until it forms a smooth and elastic ball. If the dough is too dry, you can add a little water, teaspoon by teaspoon, until it reaches the desired consistency. If it's too wet, add a little more flour.\\n5. Once the dough is formed, cover it with a clean kitchen towel or plastic wrap and let it rest for about 30 minutes. This allows the gluten to relax and makes the dough easier to work with.\\n6. After resting, divide the dough into smaller portions. Take one portion and flatten it with your hands or a rolling pin until it's about 1/4 inch thick.\\n7. If you have a pasta machine, you can use it to roll out the dough to your desired thickness. Start with the widest setting and gradually decrease the thickness until you reach the desired thickness. If you don't have a pasta machine, you can use a rolling pin to roll out the dough as thin as possible.\\n8. Once the dough is rolled out, you can cut it into your desired pasta shape. For example, you can cut it into thin strips for spaghetti or fettuccine, or into squares for ravioli.\\n9. As you cut the pasta, dust it with flour to prevent sticking. You can also hang the pasta on a drying rack or lay it flat on a clean surface until you're ready to cook it.\\n10. To cook the pasta, bring a large pot of salted water to a boil. Add the pasta and cook it until al dente, which means it's cooked but still slightly firm to the bite. The cooking time will vary depending on the thickness of the pasta, so taste it occasionally to check for doneness.\\n11. Once the pasta is cooked, drain it and serve it with your favorite sauce or toppings.\\n\\nEnjoy your homemade Italian pasta!\",\n",
      "        \"generation_info\": {\n",
      "          \"finish_reason\": \"stop\"\n",
      "        },\n",
      "        \"type\": \"ChatGeneration\",\n",
      "        \"message\": {\n",
      "          \"lc\": 1,\n",
      "          \"type\": \"constructor\",\n",
      "          \"id\": [\n",
      "            \"langchain\",\n",
      "            \"schema\",\n",
      "            \"messages\",\n",
      "            \"AIMessage\"\n",
      "          ],\n",
      "          \"kwargs\": {\n",
      "            \"content\": \"To make Italian pasta, you will need the following ingredients:\\n\\n- 2 cups of all-purpose flour\\n- 2 large eggs\\n- 1/2 teaspoon of salt\\n- Water (if needed)\\n\\nHere's a step-by-step guide to making Italian pasta:\\n\\n1. On a clean surface or in a large mixing bowl, pour the flour and create a well in the center.\\n2. Crack the eggs into the well and add the salt.\\n3. Using a fork or your fingers, gradually mix the eggs and salt into the flour, incorporating a little at a time.\\n4. Once the dough starts to come together, knead it with your hands until it forms a smooth and elastic ball. If the dough is too dry, you can add a little water, teaspoon by teaspoon, until it reaches the desired consistency. If it's too wet, add a little more flour.\\n5. Once the dough is formed, cover it with a clean kitchen towel or plastic wrap and let it rest for about 30 minutes. This allows the gluten to relax and makes the dough easier to work with.\\n6. After resting, divide the dough into smaller portions. Take one portion and flatten it with your hands or a rolling pin until it's about 1/4 inch thick.\\n7. If you have a pasta machine, you can use it to roll out the dough to your desired thickness. Start with the widest setting and gradually decrease the thickness until you reach the desired thickness. If you don't have a pasta machine, you can use a rolling pin to roll out the dough as thin as possible.\\n8. Once the dough is rolled out, you can cut it into your desired pasta shape. For example, you can cut it into thin strips for spaghetti or fettuccine, or into squares for ravioli.\\n9. As you cut the pasta, dust it with flour to prevent sticking. You can also hang the pasta on a drying rack or lay it flat on a clean surface until you're ready to cook it.\\n10. To cook the pasta, bring a large pot of salted water to a boil. Add the pasta and cook it until al dente, which means it's cooked but still slightly firm to the bite. The cooking time will vary depending on the thickness of the pasta, so taste it occasionally to check for doneness.\\n11. Once the pasta is cooked, drain it and serve it with your favorite sauce or toppings.\\n\\nEnjoy your homemade Italian pasta!\",\n",
      "            \"additional_kwargs\": {}\n",
      "          }\n",
      "        }\n",
      "      }\n",
      "    ]\n",
      "  ],\n",
      "  \"llm_output\": {\n",
      "    \"token_usage\": {\n",
      "      \"prompt_tokens\": 13,\n",
      "      \"completion_tokens\": 502,\n",
      "      \"total_tokens\": 515\n",
      "    },\n",
      "    \"model_name\": \"gpt-3.5-turbo\",\n",
      "    \"system_fingerprint\": null\n",
      "  },\n",
      "  \"run\": null\n",
      "}\n"
     ]
    },
    {
     "data": {
      "text/plain": [
       "\"To make Italian pasta, you will need the following ingredients:\\n\\n- 2 cups of all-purpose flour\\n- 2 large eggs\\n- 1/2 teaspoon of salt\\n- Water (if needed)\\n\\nHere's a step-by-step guide to making Italian pasta:\\n\\n1. On a clean surface or in a large mixing bowl, pour the flour and create a well in the center.\\n2. Crack the eggs into the well and add the salt.\\n3. Using a fork or your fingers, gradually mix the eggs and salt into the flour, incorporating a little at a time.\\n4. Once the dough starts to come together, knead it with your hands until it forms a smooth and elastic ball. If the dough is too dry, you can add a little water, teaspoon by teaspoon, until it reaches the desired consistency. If it's too wet, add a little more flour.\\n5. Once the dough is formed, cover it with a clean kitchen towel or plastic wrap and let it rest for about 30 minutes. This allows the gluten to relax and makes the dough easier to work with.\\n6. After resting, divide the dough into smaller portions. Take one portion and flatten it with your hands or a rolling pin until it's about 1/4 inch thick.\\n7. If you have a pasta machine, you can use it to roll out the dough to your desired thickness. Start with the widest setting and gradually decrease the thickness until you reach the desired thickness. If you don't have a pasta machine, you can use a rolling pin to roll out the dough as thin as possible.\\n8. Once the dough is rolled out, you can cut it into your desired pasta shape. For example, you can cut it into thin strips for spaghetti or fettuccine, or into squares for ravioli.\\n9. As you cut the pasta, dust it with flour to prevent sticking. You can also hang the pasta on a drying rack or lay it flat on a clean surface until you're ready to cook it.\\n10. To cook the pasta, bring a large pot of salted water to a boil. Add the pasta and cook it until al dente, which means it's cooked but still slightly firm to the bite. The cooking time will vary depending on the thickness of the pasta, so taste it occasionally to check for doneness.\\n11. Once the pasta is cooked, drain it and serve it with your favorite sauce or toppings.\\n\\nEnjoy your homemade Italian pasta!\""
      ]
     },
     "execution_count": 37,
     "metadata": {},
     "output_type": "execute_result"
    }
   ],
   "source": [
    "from langchain.chat_models import ChatOpenAI\n",
    "from langchain.callbacks import StreamingStdOutCallbackHandler\n",
    "from langchain.globals import set_llm_cache, set_debug\n",
    "from langchain.cache import InMemoryCache\n",
    "\n",
    "set_llm_cache(InMemoryCache())\n",
    "\n",
    "# set debug\n",
    "set_debug(True)\n",
    "\n",
    "\n",
    "\n",
    "\n",
    "chat = ChatOpenAI(\n",
    "    temperature=0.1,\n",
    "    # streaming=True,\n",
    "    # callbacks=[\n",
    "    #     StreamingStdOutCallbackHandler(),\n",
    "    # ],\n",
    ")\n",
    "\n",
    "chat.predict(\"How do you make italian pasta\")\n",
    "# 19.4sec"
   ]
  },
  {
   "cell_type": "markdown",
   "metadata": {},
   "source": [
    "## Database cache \n",
    "- SQLite"
   ]
  },
  {
   "cell_type": "code",
   "execution_count": 39,
   "metadata": {},
   "outputs": [
    {
     "data": {
      "text/plain": [
       "\"To make Italian pasta, you will need the following ingredients:\\n\\n- 2 cups of all-purpose flour\\n- 2 large eggs\\n- 1/2 teaspoon of salt\\n- Water (if needed)\\n\\nHere's a step-by-step guide to making Italian pasta:\\n\\n1. On a clean surface or in a large mixing bowl, pour the flour and create a well in the center.\\n2. Crack the eggs into the well and add the salt.\\n3. Using a fork or your fingers, gradually mix the eggs and salt into the flour, incorporating a little bit at a time.\\n4. Once the dough starts to come together, knead it with your hands until it forms a smooth and elastic ball. If the dough is too dry, you can add a little water, one tablespoon at a time, until it reaches the desired consistency.\\n5. Once the dough is formed, cover it with a clean kitchen towel or plastic wrap and let it rest for about 30 minutes. This will allow the gluten to relax and make the dough easier to work with.\\n6. After resting, divide the dough into smaller portions. Take one portion and flatten it with your hands or a rolling pin until it is about 1/4 inch thick.\\n7. If you have a pasta machine, you can use it to roll out the dough to your desired thickness. Start with the widest setting and gradually decrease the thickness until you reach the desired thickness. If you don't have a pasta machine, you can continue rolling the dough with a rolling pin until it is thin enough.\\n8. Once the dough is rolled out, you can cut it into your desired pasta shape. For example, you can cut it into thin strips for spaghetti or wider strips for fettuccine. You can also use a pasta machine with a cutting attachment to make the process easier.\\n9. After cutting the pasta, you can cook it immediately in a large pot of salted boiling water for about 2-3 minutes or until al dente. Fresh pasta cooks much faster than dried pasta, so keep an eye on it.\\n10. Once cooked, drain the pasta and serve it with your favorite sauce or toppings.\\n\\nEnjoy your homemade Italian pasta!\""
      ]
     },
     "execution_count": 39,
     "metadata": {},
     "output_type": "execute_result"
    }
   ],
   "source": [
    "from langchain.chat_models import ChatOpenAI\n",
    "from langchain.callbacks import StreamingStdOutCallbackHandler\n",
    "from langchain.globals import set_llm_cache, set_debug\n",
    "from langchain.cache import InMemoryCache, SQLiteCache\n",
    "\n",
    "set_llm_cache(SQLiteCache(\"chache.db\"))\n",
    "set_debug(False)\n",
    "\n",
    "\n",
    "chat = ChatOpenAI(\n",
    "    temperature=0.1,\n",
    "    # streaming=True,\n",
    "    # callbacks=[\n",
    "    #     StreamingStdOutCallbackHandler(),\n",
    "    # ],\n",
    ")\n",
    "\n",
    "chat.predict(\"How do you make italian pasta\")\n",
    "# 19.4sec"
   ]
  },
  {
   "cell_type": "markdown",
   "metadata": {},
   "source": [
    "# How much Money & Serializaion!"
   ]
  },
  {
   "cell_type": "code",
   "execution_count": 2,
   "metadata": {},
   "outputs": [
    {
     "name": "stdout",
     "output_type": "stream",
     "text": [
      "Soju is a traditional Korean distilled alcoholic beverage. Here is a simple recipe to make soju at home:\n",
      "\n",
      "Ingredients:\n",
      "- 1 cup of rice\n",
      "- 1 cup of nuruk (Korean fermentation starter)\n",
      "- 8 cups of water\n",
      "- 1 tablespoon of yeast\n",
      "- 1 cup of sugar\n",
      "\n",
      "Instructions:\n",
      "1. Rinse the rice thoroughly and soak it in water for about 1 hour.\n",
      "2. Drain the rice and transfer it to a large pot. Add 8 cups of water and bring it to a boil.\n",
      "3. Reduce the heat to low and simmer the rice for about 30 minutes, or until it becomes soft and mushy.\n",
      "4. Remove the pot from heat and let it cool down to room temperature.\n",
      "5. Once the rice has cooled, transfer it to a large fermentation container or jar.\n",
      "6. Add the nuruk and yeast to the container and mix well with the rice.\n",
      "7. Cover the container with a clean cloth or plastic wrap and let it ferment for about 7-10 days at room temperature.\n",
      "8. After the fermentation period, strain the mixture through a cheesecloth or fine mesh strainer to remove any solids.\n",
      "9. Dissolve the sugar in the strained liquid and mix well until it is fully dissolved.\n",
      "10. Transfer the liquid to a clean bottle or bottles and seal them tightly.\n",
      "11. Store the bottles in a cool, dark place for at least 2 weeks to allow the flavors to develop.\n",
      "12. After the aging period, your homemade soju is ready to be enjoyed!\n",
      "\n",
      "Please note that making soju at home requires proper equipment and knowledge of the fermentation process. It is recommended to research and follow safety guidelines to ensure a successful and safe fermentation. \n",
      " Makgeolli is a traditional Korean rice wine that is known for its milky appearance and slightly sweet and tangy taste. Here is a simple recipe to make makgeolli at home:\n",
      "\n",
      "Ingredients:\n",
      "- 2 cups short-grain rice\n",
      "- 4 cups water\n",
      "- 1 tablespoon nuruk (fermentation starter)\n",
      "- 1 tablespoon sugar (optional, for sweetness)\n",
      "\n",
      "Instructions:\n",
      "1. Rinse the rice thoroughly under cold water until the water runs clear. Drain the rice and let it sit for about 30 minutes to remove excess water.\n",
      "2. Cook the rice by either steaming or boiling it until it becomes soft and fully cooked.\n",
      "3. Let the cooked rice cool down to room temperature.\n",
      "4. In a large sterilized container or jar, combine the cooked rice, water, and nuruk. Mix well until the nuruk is fully dissolved.\n",
      "5. Cover the container with a clean cloth or plastic wrap and let it ferment at room temperature for about 1-2 days. The fermentation time can vary depending on the desired taste and temperature.\n",
      "6. After the fermentation period, strain the mixture through a fine-mesh sieve or cheesecloth to remove any solid particles.\n",
      "7. If desired, add sugar to the strained liquid and mix well until dissolved.\n",
      "8. Transfer the makgeolli into clean, airtight bottles or jars and refrigerate for a few hours before serving.\n",
      "9. Shake the bottle gently before serving to mix any sediments that may have settled.\n",
      "\n",
      "Note: Makgeolli is a naturally carbonated drink, so be cautious when opening the bottles as they may be under pressure. It is best consumed within a week or two for optimal taste and freshness.\n",
      "Tokens Used: 735\n",
      "\tPrompt Tokens: 34\n",
      "\tCompletion Tokens: 701\n",
      "Successful Requests: 2\n",
      "Total Cost (USD): $0.0014529999999999999\n"
     ]
    }
   ],
   "source": [
    "from langchain.chat_models import ChatOpenAI\n",
    "from langchain.callbacks import get_openai_callback\n",
    "\n",
    "\n",
    "chat = ChatOpenAI(\n",
    "    temperature=0.1,\n",
    ")\n",
    "\n",
    "with get_openai_callback() as usage:\n",
    "    #  << -- Usage -- >>\n",
    "    a = chat.predict(\"What is the recipe for soju?\")\n",
    "\n",
    "    # ...\n",
    "\n",
    "    b = chat.predict(\"What is the recipe for makgolri from Korea??\")\n",
    "\n",
    "    #  << -- Usage -- >>\n",
    "    print(a, '\\n', b)\n",
    "    print(usage)\n",
    "    print(usage.total_tokens)\n",
    "    print(usage.total_cost)"
   ]
  },
  {
   "cell_type": "code",
   "execution_count": 5,
   "metadata": {},
   "outputs": [
    {
     "name": "stderr",
     "output_type": "stream",
     "text": [
      "/config/workspace/FULLSTACK-GPT/env/lib/python3.10/site-packages/langchain/llms/openai.py:216: UserWarning: You are trying to use a chat model. This way of initializing it is no longer supported. Instead, please use: `from langchain.chat_models import ChatOpenAI`\n",
      "  warnings.warn(\n",
      "/config/workspace/FULLSTACK-GPT/env/lib/python3.10/site-packages/langchain/llms/openai.py:811: UserWarning: You are trying to use a chat model. This way of initializing it is no longer supported. Instead, please use: `from langchain.chat_models import ChatOpenAI`\n",
      "  warnings.warn(\n"
     ]
    },
    {
     "data": {
      "text/plain": [
       "OpenAIChat(client=<class 'openai.api_resources.chat_completion.ChatCompletion'>, model_name='gpt-3.5-turbo-16k', model_kwargs={'temperature': 0.1, 'max_tokens': 450, 'top_p': 1, 'frequency_penalty': 0, 'presence_penalty': 0, 'n': 1, 'request_timeout': None, 'logit_bias': {}})"
      ]
     },
     "execution_count": 5,
     "metadata": {},
     "output_type": "execute_result"
    }
   ],
   "source": [
    "from langchain.llms.openai import OpenAI\n",
    "from langchain.llms.loading import load_llm\n",
    "\n",
    "chat = OpenAI(\n",
    "    temperature=0.1,\n",
    "    max_tokens=450,\n",
    "    model=\"gpt-3.5-turbo-16k\"\n",
    ")\n",
    "\n",
    "chat.save(\"model.json\")\n",
    "\n",
    "chat = load_llm(\"model.json\")\n",
    "chat"
   ]
  },
  {
   "cell_type": "markdown",
   "metadata": {},
   "source": [
    "# 5. ConversationBufferMemory\n",
    "- 대화 전체를 모델에게 보내는 것\n",
    "- Text Completion할 때 유용함"
   ]
  },
  {
   "cell_type": "code",
   "execution_count": 1,
   "metadata": {},
   "outputs": [
    {
     "data": {
      "text/plain": [
       "{'history': 'Human: HI\\nAI: How are you?'}"
      ]
     },
     "execution_count": 1,
     "metadata": {},
     "output_type": "execute_result"
    }
   ],
   "source": [
    "from langchain.memory import ConversationBufferMemory\n",
    "\n",
    "# 단순 text를 return\n",
    "memory = ConversationBufferMemory()\n",
    "memory.save_context({\"input\":\"HI\"},{\"output\":\"How are you?\"})\n",
    "memory.load_memory_variables({})"
   ]
  },
  {
   "cell_type": "code",
   "execution_count": 2,
   "metadata": {},
   "outputs": [
    {
     "data": {
      "text/plain": [
       "{'history': [HumanMessage(content='HI'), AIMessage(content='How are you?')]}"
      ]
     },
     "execution_count": 2,
     "metadata": {},
     "output_type": "execute_result"
    }
   ],
   "source": [
    "# 대화를 return\n",
    "memory = ConversationBufferMemory(return_messages=True)\n",
    "memory.save_context({\"input\":\"HI\"},{\"output\":\"How are you?\"})\n",
    "memory.load_memory_variables({})"
   ]
  },
  {
   "cell_type": "markdown",
   "metadata": {},
   "source": [
    "- 대화 내용 전체가 저장됨 (비효율적)"
   ]
  },
  {
   "cell_type": "code",
   "execution_count": 3,
   "metadata": {},
   "outputs": [
    {
     "data": {
      "text/plain": [
       "{'history': [HumanMessage(content='HI'),\n",
       "  AIMessage(content='How are you?'),\n",
       "  HumanMessage(content='HI'),\n",
       "  AIMessage(content='How are you?'),\n",
       "  HumanMessage(content='HI'),\n",
       "  AIMessage(content='How are you?')]}"
      ]
     },
     "execution_count": 3,
     "metadata": {},
     "output_type": "execute_result"
    }
   ],
   "source": [
    "memory = ConversationBufferMemory(return_messages=True)\n",
    "memory.save_context({\"input\":\"HI\"},{\"output\":\"How are you?\"})\n",
    "memory.save_context({\"input\":\"HI\"},{\"output\":\"How are you?\"})\n",
    "memory.save_context({\"input\":\"HI\"},{\"output\":\"How are you?\"})\n",
    "memory.load_memory_variables({})"
   ]
  },
  {
   "cell_type": "markdown",
   "metadata": {},
   "source": [
    "# 5.1. ConversationBufferWindowMemory"
   ]
  },
  {
   "cell_type": "code",
   "execution_count": 4,
   "metadata": {},
   "outputs": [],
   "source": [
    "from langchain.memory import ConversationBufferWindowMemory\n",
    "memory = ConversationBufferWindowMemory(\n",
    "    return_messages=True,\n",
    "    k=4\n",
    ")\n",
    "def add_message(input, output):\n",
    "    memory.save_context({\"input\":input}, {\"output\":output})"
   ]
  },
  {
   "cell_type": "code",
   "execution_count": 7,
   "metadata": {},
   "outputs": [
    {
     "data": {
      "text/plain": [
       "{'history': [HumanMessage(content='1'),\n",
       "  AIMessage(content='1'),\n",
       "  HumanMessage(content='2'),\n",
       "  AIMessage(content='2'),\n",
       "  HumanMessage(content='3'),\n",
       "  AIMessage(content='3'),\n",
       "  HumanMessage(content='4'),\n",
       "  AIMessage(content='4')]}"
      ]
     },
     "execution_count": 7,
     "metadata": {},
     "output_type": "execute_result"
    }
   ],
   "source": [
    "add_message(1,1)\n",
    "add_message(2,2)\n",
    "add_message(3,3)\n",
    "add_message(4,4)\n",
    "memory.load_memory_variables({})"
   ]
  },
  {
   "cell_type": "code",
   "execution_count": 8,
   "metadata": {},
   "outputs": [
    {
     "data": {
      "text/plain": [
       "{'history': [HumanMessage(content='2'),\n",
       "  AIMessage(content='2'),\n",
       "  HumanMessage(content='3'),\n",
       "  AIMessage(content='3'),\n",
       "  HumanMessage(content='4'),\n",
       "  AIMessage(content='4'),\n",
       "  HumanMessage(content='5'),\n",
       "  AIMessage(content='5')]}"
      ]
     },
     "execution_count": 8,
     "metadata": {},
     "output_type": "execute_result"
    }
   ],
   "source": [
    "add_message(5,5)\n",
    "memory.load_memory_variables({})"
   ]
  },
  {
   "cell_type": "markdown",
   "metadata": {},
   "source": [
    "# 5.2. ConversationSummaryMemory"
   ]
  },
  {
   "cell_type": "code",
   "execution_count": 9,
   "metadata": {},
   "outputs": [],
   "source": [
    "from langchain.memory import ConversationSummaryMemory\n",
    "from langchain.chat_models import ChatOpenAI\n",
    "\n",
    "llm = ChatOpenAI(temperature=0.1)\n",
    "\n",
    "memory = ConversationSummaryMemory(llm=llm)\n",
    "\n",
    "\n",
    "def add_message(input, output):\n",
    "    memory.save_context({\"input\": input}, {\"output\": output})\n",
    "\n",
    "\n",
    "def get_history():\n",
    "    return memory.load_memory_variables({})\n",
    "\n",
    "\n",
    "add_message(\"Hi I'm Nicolas, I live in South Korea\", \"Wow that is so cool!\")"
   ]
  },
  {
   "cell_type": "code",
   "execution_count": 10,
   "metadata": {},
   "outputs": [
    {
     "data": {
      "text/plain": [
       "{'history': 'The human introduces themselves as Nicolas and mentions that they live in South Korea. The AI responds by expressing admiration for this fact and expresses a desire to visit South Korea because it is so pretty.'}"
      ]
     },
     "execution_count": 10,
     "metadata": {},
     "output_type": "execute_result"
    }
   ],
   "source": [
    "add_message(\"South Korea is so pretty\", \"I wish I could go!\")\n",
    "get_history()"
   ]
  },
  {
   "cell_type": "markdown",
   "metadata": {},
   "source": [
    "# 5.3. ConversationSummaryBufferMemory\n",
    "- 오래된 메세지를 요약한다.\n",
    "- 최근의 메세지는 그대로 저장한다."
   ]
  },
  {
   "cell_type": "code",
   "execution_count": 1,
   "metadata": {},
   "outputs": [],
   "source": [
    "from langchain.memory import ConversationSummaryBufferMemory\n",
    "from langchain.chat_models import ChatOpenAI\n",
    "\n",
    "llm = ChatOpenAI(temperature=0.1)\n",
    "\n",
    "memory = ConversationSummaryBufferMemory(\n",
    "    llm=llm,\n",
    "    max_token_limit=150,\n",
    "    return_messages=True,\n",
    ")\n",
    "\n",
    "\n",
    "def add_message(input, output):\n",
    "    memory.save_context({\"input\": input}, {\"output\": output})\n",
    "\n",
    "\n",
    "def get_history():\n",
    "    return memory.load_memory_variables({})\n",
    "\n",
    "\n",
    "add_message(\"Hi I'm Nicolas, I live in South Korea\", \"Wow that is so cool!\")"
   ]
  },
  {
   "cell_type": "code",
   "execution_count": 2,
   "metadata": {},
   "outputs": [
    {
     "data": {
      "text/plain": [
       "{'history': [HumanMessage(content=\"Hi I'm Nicolas, I live in South Korea\"),\n",
       "  AIMessage(content='Wow that is so cool!')]}"
      ]
     },
     "execution_count": 2,
     "metadata": {},
     "output_type": "execute_result"
    }
   ],
   "source": [
    "get_history()"
   ]
  },
  {
   "cell_type": "code",
   "execution_count": 3,
   "metadata": {},
   "outputs": [],
   "source": [
    "add_message(\"South Korea is so pretty\", \"I wish I could go!!!\")"
   ]
  },
  {
   "cell_type": "code",
   "execution_count": 4,
   "metadata": {},
   "outputs": [
    {
     "data": {
      "text/plain": [
       "{'history': [HumanMessage(content=\"Hi I'm Nicolas, I live in South Korea\"),\n",
       "  AIMessage(content='Wow that is so cool!'),\n",
       "  HumanMessage(content='South Korea is so pretty'),\n",
       "  AIMessage(content='I wish I could go!!!')]}"
      ]
     },
     "execution_count": 4,
     "metadata": {},
     "output_type": "execute_result"
    }
   ],
   "source": [
    "get_history()"
   ]
  },
  {
   "cell_type": "code",
   "execution_count": 10,
   "metadata": {},
   "outputs": [],
   "source": [
    "add_message(\"How far is Korea from Argentina?\", \"I don't know! Super far!\")\n"
   ]
  },
  {
   "cell_type": "code",
   "execution_count": 11,
   "metadata": {},
   "outputs": [
    {
     "data": {
      "text/plain": [
       "{'history': [HumanMessage(content=\"Hi I'm Nicolas, I live in South Korea\"),\n",
       "  AIMessage(content='Wow that is so cool!'),\n",
       "  HumanMessage(content='South Korea is so pretty'),\n",
       "  AIMessage(content='I wish I could go!!!'),\n",
       "  HumanMessage(content='South Korea is so pretty'),\n",
       "  AIMessage(content='I wish I could go!!!'),\n",
       "  HumanMessage(content='How far is Brazil from Argentina?'),\n",
       "  AIMessage(content=\"I don't know! Super far!\"),\n",
       "  HumanMessage(content='How far is Korea from Argentina?'),\n",
       "  AIMessage(content=\"I don't know! Super far!\")]}"
      ]
     },
     "execution_count": 11,
     "metadata": {},
     "output_type": "execute_result"
    }
   ],
   "source": [
    "get_history()"
   ]
  },
  {
   "cell_type": "code",
   "execution_count": 14,
   "metadata": {},
   "outputs": [],
   "source": [
    "add_message(\"How far is Brazil from Argentina?\", \"I don't know! Super far!\")"
   ]
  },
  {
   "cell_type": "code",
   "execution_count": 15,
   "metadata": {},
   "outputs": [
    {
     "data": {
      "text/plain": [
       "{'history': [SystemMessage(content='The human introduces themselves as Nicolas and mentions that they live in South Korea. The AI responds by expressing excitement and finding it cool.'),\n",
       "  HumanMessage(content='South Korea is so pretty'),\n",
       "  AIMessage(content='I wish I could go!!!'),\n",
       "  HumanMessage(content='South Korea is so pretty'),\n",
       "  AIMessage(content='I wish I could go!!!'),\n",
       "  HumanMessage(content='How far is Brazil from Argentina?'),\n",
       "  AIMessage(content=\"I don't know! Super far!\"),\n",
       "  HumanMessage(content='How far is Korea from Argentina?'),\n",
       "  AIMessage(content=\"I don't know! Super far!\"),\n",
       "  HumanMessage(content='How far is Brazil from Argentina?'),\n",
       "  AIMessage(content=\"I don't know! Super far!\"),\n",
       "  HumanMessage(content='How far is Brazil from Argentina?'),\n",
       "  AIMessage(content=\"I don't know! Super far!\")]}"
      ]
     },
     "execution_count": 15,
     "metadata": {},
     "output_type": "execute_result"
    }
   ],
   "source": [
    "get_history()"
   ]
  },
  {
   "cell_type": "markdown",
   "metadata": {},
   "source": [
    "# 5.4. ConversationKGMemory\n",
    "- Builds a knowledge graph \n",
    "- 중요한 것만 뽑아낸 요약본 - 히스토리가 아닌 entity를 가지고 옴"
   ]
  },
  {
   "cell_type": "code",
   "execution_count": 16,
   "metadata": {},
   "outputs": [],
   "source": [
    "from langchain.memory import ConversationKGMemory\n",
    "from langchain.chat_models import ChatOpenAI\n",
    "\n",
    "llm = ChatOpenAI(temperature=0.1)\n",
    "\n",
    "memory = ConversationKGMemory(\n",
    "    llm=llm,\n",
    "    return_messages=True,\n",
    ")\n",
    "\n",
    "\n",
    "def add_message(input, output):\n",
    "    memory.save_context({\"input\": input}, {\"output\": output})\n",
    "\n",
    "\n",
    "add_message(\"Hi I'm Nicolas, I live in South Korea\", \"Wow that is so cool!\")"
   ]
  },
  {
   "cell_type": "code",
   "execution_count": 17,
   "metadata": {},
   "outputs": [
    {
     "data": {
      "text/plain": [
       "{'history': [SystemMessage(content='On Nicolas: Nicolas is a person. Nicolas lives in South Korea.')]}"
      ]
     },
     "execution_count": 17,
     "metadata": {},
     "output_type": "execute_result"
    }
   ],
   "source": [
    "memory.load_memory_variables({\"input\": \"who is Nicolas\"})"
   ]
  },
  {
   "cell_type": "code",
   "execution_count": 18,
   "metadata": {},
   "outputs": [],
   "source": [
    "add_message(\"Nicolas likes kimchi\", \"Wow that is so cool!\")\n"
   ]
  },
  {
   "cell_type": "code",
   "execution_count": 19,
   "metadata": {},
   "outputs": [
    {
     "data": {
      "text/plain": [
       "{'history': [SystemMessage(content='On Nicolas: Nicolas is a person. Nicolas lives in South Korea. Nicolas likes kimchi.')]}"
      ]
     },
     "execution_count": 19,
     "metadata": {},
     "output_type": "execute_result"
    }
   ],
   "source": [
    "memory.load_memory_variables({\"inputs\": \"what does nicolas like\"})\n"
   ]
  },
  {
   "cell_type": "markdown",
   "metadata": {},
   "source": [
    "# 5.5. Momory on LLMChain\n",
    "- LLM Chain - `off-the-shelf-chain` > 일반적 목적의 체인\n",
    "- Custom Chain? >> langchain expression language"
   ]
  },
  {
   "cell_type": "code",
   "execution_count": 24,
   "metadata": {},
   "outputs": [
    {
     "name": "stdout",
     "output_type": "stream",
     "text": [
      "\n",
      "\n",
      "\u001b[1m> Entering new LLMChain chain...\u001b[0m\n",
      "Prompt after formatting:\n",
      "\u001b[32;1m\u001b[1;3mMy name is Nico\u001b[0m\n",
      "\n",
      "\u001b[1m> Finished chain.\u001b[0m\n"
     ]
    },
    {
     "data": {
      "text/plain": [
       "'Nice to meet you, Nico! How can I assist you today?'"
      ]
     },
     "execution_count": 24,
     "metadata": {},
     "output_type": "execute_result"
    }
   ],
   "source": [
    "from langchain.memory import ConversationSummaryBufferMemory\n",
    "from langchain.chat_models import ChatOpenAI\n",
    "from langchain.chains import LLMChain\n",
    "from langchain.prompts import PromptTemplate\n",
    "\n",
    "llm = ChatOpenAI(temperature=0.1)\n",
    "\n",
    "memory = ConversationSummaryBufferMemory(\n",
    "    llm=llm,\n",
    "    max_token_limit=120,\n",
    "    memory_key=\"chat_history\",\n",
    ")\n",
    "\n",
    "\n",
    "\n",
    "chain = LLMChain(\n",
    "    llm=llm,\n",
    "    memory=memory,\n",
    "    prompt=PromptTemplate.from_template(\"{question}\"),\n",
    "    verbose=True, # Log of Prompt\n",
    ")\n",
    "\n",
    "chain.predict(question=\"My name is Nico\")"
   ]
  },
  {
   "cell_type": "code",
   "execution_count": 25,
   "metadata": {},
   "outputs": [
    {
     "name": "stdout",
     "output_type": "stream",
     "text": [
      "\n",
      "\n",
      "\u001b[1m> Entering new LLMChain chain...\u001b[0m\n",
      "Prompt after formatting:\n",
      "\u001b[32;1m\u001b[1;3mI live in Seoul\u001b[0m\n",
      "\n",
      "\u001b[1m> Finished chain.\u001b[0m\n"
     ]
    },
    {
     "data": {
      "text/plain": [
       "\"That's great! Seoul is the capital and largest city of South Korea. It is known for its vibrant culture, modern architecture, and delicious food. There are many attractions to explore in Seoul, such as Gyeongbokgung Palace, N Seoul Tower, Myeongdong shopping district, and the Han River. The city also offers a wide range of entertainment options, including K-pop concerts, traditional performances, and trendy nightlife. Enjoy your time in Seoul!\""
      ]
     },
     "execution_count": 25,
     "metadata": {},
     "output_type": "execute_result"
    }
   ],
   "source": [
    "chain.predict(question=\"I live in Seoul\")\n"
   ]
  },
  {
   "cell_type": "code",
   "execution_count": 26,
   "metadata": {},
   "outputs": [
    {
     "name": "stdout",
     "output_type": "stream",
     "text": [
      "\n",
      "\n",
      "\u001b[1m> Entering new LLMChain chain...\u001b[0m\n",
      "Prompt after formatting:\n",
      "\u001b[32;1m\u001b[1;3mWhat is my name?\u001b[0m\n",
      "\n",
      "\u001b[1m> Finished chain.\u001b[0m\n"
     ]
    },
    {
     "data": {
      "text/plain": [
       "\"I'm sorry, but I don't have access to personal information about individuals unless it has been shared with me in the course of our conversation.\""
      ]
     },
     "execution_count": 26,
     "metadata": {},
     "output_type": "execute_result"
    }
   ],
   "source": [
    "chain.predict(question=\"What is my name?\")\n"
   ]
  },
  {
   "cell_type": "code",
   "execution_count": 27,
   "metadata": {},
   "outputs": [
    {
     "data": {
      "text/plain": [
       "{'chat_history': \"System: The human introduces themselves as Nico. The AI greets Nico and asks how it can assist them. Nico mentions that they live in Seoul. The AI responds by providing information about Seoul, including its status as the capital and largest city of South Korea, its vibrant culture, modern architecture, and delicious food. The AI also mentions various attractions and entertainment options available in Seoul, wishing Nico an enjoyable time in the city.\\nHuman: What is my name?\\nAI: I'm sorry, but I don't have access to personal information about individuals unless it has been shared with me in the course of our conversation.\"}"
      ]
     },
     "execution_count": 27,
     "metadata": {},
     "output_type": "execute_result"
    }
   ],
   "source": [
    "memory.load_memory_variables({})"
   ]
  },
  {
   "cell_type": "code",
   "execution_count": 3,
   "metadata": {},
   "outputs": [
    {
     "name": "stdout",
     "output_type": "stream",
     "text": [
      "\n",
      "\n",
      "\u001b[1m> Entering new LLMChain chain...\u001b[0m\n",
      "Prompt after formatting:\n",
      "\u001b[32;1m\u001b[1;3m\n",
      "    You are a helpful AI talking to a human.\n",
      "\n",
      "    \n",
      "    Human:My name is Nico\n",
      "    You:\n",
      "\u001b[0m\n",
      "\n",
      "\u001b[1m> Finished chain.\u001b[0m\n",
      "Hello Nico! How can I assist you today?\n",
      "<class 'str'>\n"
     ]
    }
   ],
   "source": [
    "from langchain.memory import ConversationSummaryBufferMemory\n",
    "from langchain.chat_models import ChatOpenAI\n",
    "from langchain.chains import LLMChain\n",
    "from langchain.prompts import PromptTemplate\n",
    "\n",
    "llm = ChatOpenAI(temperature=0.1)\n",
    "memory = ConversationSummaryBufferMemory(\n",
    "    llm=llm,\n",
    "    max_token_limit=120,\n",
    "    memory_key=\"chat_history\",\n",
    ")\n",
    "\n",
    "# 추가\n",
    "template = \"\"\"\n",
    "    You are a helpful AI talking to a human.\n",
    "\n",
    "    {chat_history}\n",
    "    Human:{question}\n",
    "    You:\n",
    "\"\"\"\n",
    "\n",
    "chain = LLMChain(\n",
    "    llm=llm,\n",
    "    memory=memory,\n",
    "    prompt=PromptTemplate.from_template(template),\n",
    "    verbose=True,\n",
    ")\n",
    "\n",
    "predict = chain.predict(question=\"My name is Nico\")\n",
    "print(predict)\n",
    "print(type(predict))"
   ]
  },
  {
   "cell_type": "code",
   "execution_count": 31,
   "metadata": {},
   "outputs": [
    {
     "name": "stdout",
     "output_type": "stream",
     "text": [
      "\n",
      "\n",
      "\u001b[1m> Entering new LLMChain chain...\u001b[0m\n",
      "Prompt after formatting:\n",
      "\u001b[32;1m\u001b[1;3m\n",
      "    You are a helpful AI talking to a human.\n",
      "\n",
      "    System: The human introduces themselves as Nico. The AI greets Nico and asks how it can assist them. Nico mentions that they live in Seoul. The AI responds by providing information about Seoul, including its status as the capital and largest city of South Korea, its vibrant culture, modern architecture, and delicious food. The AI also mentions various attractions and entertainment options available in Seoul, wishing Nico an enjoyable time in the city. Nico then asks the AI what their name is.\n",
      "AI: I'm sorry, but I don't have access to personal information about individuals unless it has been shared with me in the course of our conversation.\n",
      "Human: What is my name?\n",
      "AI: I apologize for any confusion, but as an AI, I don't have access to personal information about individuals unless it has been shared with me in the course of our conversation.\n",
      "Human: My name is Nico\n",
      "AI: Hello Nico! How can I assist you today?\n",
      "    Human:What is my name?\n",
      "    You:\n",
      "\u001b[0m\n",
      "\n",
      "\u001b[1m> Finished chain.\u001b[0m\n"
     ]
    },
    {
     "data": {
      "text/plain": [
       "'Your name is Nico.'"
      ]
     },
     "execution_count": 31,
     "metadata": {},
     "output_type": "execute_result"
    }
   ],
   "source": [
    "chain.predict(question=\"What is my name?\")\n"
   ]
  },
  {
   "cell_type": "markdown",
   "metadata": {},
   "source": [
    "# Chat Based Memory\n",
    "- return >> 설정 없으면 문자열\n",
    "- 대화 기반 Chat >> return_messages=true >> ChatPromptTemplate"
   ]
  },
  {
   "cell_type": "code",
   "execution_count": 2,
   "metadata": {},
   "outputs": [
    {
     "name": "stdout",
     "output_type": "stream",
     "text": [
      "\n",
      "\n",
      "\u001b[1m> Entering new LLMChain chain...\u001b[0m\n",
      "Prompt after formatting:\n",
      "\u001b[32;1m\u001b[1;3mMy name is Nico\u001b[0m\n",
      "\n",
      "\u001b[1m> Finished chain.\u001b[0m\n"
     ]
    },
    {
     "data": {
      "text/plain": [
       "{'chat_history': [HumanMessage(content='My name is Nico'),\n",
       "  AIMessage(content='Nice to meet you, Nico! How can I assist you today?')]}"
      ]
     },
     "execution_count": 2,
     "metadata": {},
     "output_type": "execute_result"
    }
   ],
   "source": [
    "from langchain.memory import ConversationSummaryBufferMemory\n",
    "from langchain.chat_models import ChatOpenAI\n",
    "from langchain.chains import LLMChain\n",
    "from langchain.prompts import PromptTemplate, ChatPromptTemplate\n",
    "\n",
    "llm = ChatOpenAI(temperature=0.1)\n",
    "\n",
    "memory = ConversationSummaryBufferMemory(\n",
    "    llm=llm,\n",
    "    max_token_limit=120,\n",
    "    memory_key=\"chat_history\",\n",
    "    return_messages=True\n",
    ")\n",
    "\n",
    "template = \"\"\"\n",
    "    You are a helpful AI talking to a human.\n",
    "\n",
    "    {chat_history}\n",
    "    Human:{question}\n",
    "    You:\n",
    "\"\"\"\n",
    "\n",
    "\n",
    "chain = LLMChain(\n",
    "    llm=llm,\n",
    "    memory=memory,\n",
    "    prompt=PromptTemplate.from_template(\"{question}\"),\n",
    "    verbose=True, # Log of Prompt\n",
    ")\n",
    "\n",
    "chain.predict(question=\"My name is Nico\")\n",
    "\n",
    "memory.load_memory_variables({})"
   ]
  },
  {
   "cell_type": "code",
   "execution_count": 17,
   "metadata": {},
   "outputs": [
    {
     "name": "stdout",
     "output_type": "stream",
     "text": [
      "\n",
      "\n",
      "\u001b[1m> Entering new LLMChain chain...\u001b[0m\n",
      "Prompt after formatting:\n",
      "\u001b[32;1m\u001b[1;3mSystem: You are a helpful AI talking to a human\n",
      "Human: My name is Nico\u001b[0m\n",
      "\n",
      "\u001b[1m> Finished chain.\u001b[0m\n"
     ]
    },
    {
     "data": {
      "text/plain": [
       "{'chat_history': [HumanMessage(content='My name is Nico'),\n",
       "  AIMessage(content='Hello Nico! How can I assist you today?')]}"
      ]
     },
     "execution_count": 17,
     "metadata": {},
     "output_type": "execute_result"
    }
   ],
   "source": [
    "from langchain.memory import ConversationSummaryBufferMemory\n",
    "from langchain.chat_models import ChatOpenAI\n",
    "from langchain.chains import LLMChain\n",
    "from langchain.prompts import ChatPromptTemplate, MessagesPlaceholder\n",
    "\n",
    "llm = ChatOpenAI(temperature=0.1)\n",
    "\n",
    "memory = ConversationSummaryBufferMemory(\n",
    "    llm=llm,\n",
    "    max_token_limit=120,\n",
    "    memory_key=\"chat_history\",\n",
    "    return_messages=True\n",
    ")\n",
    "# buffer memroy key와 meesages placeholder variable_name가 같다.\n",
    "\n",
    "# template 대신에\n",
    "prompt = ChatPromptTemplate.from_messages([\n",
    "    (\"system\", \"You are a helpful AI talking to a human\"),\n",
    "    MessagesPlaceholder(variable_name=\"chat_history\"),\n",
    "    (\"human\", \"{question}\"),\n",
    "])\n",
    "\n",
    "chain = LLMChain(\n",
    "    llm=llm,\n",
    "    memory=memory,\n",
    "    prompt=prompt,\n",
    "    verbose=True, # Log of Prompt\n",
    ")\n",
    "\n",
    "chain.predict(question=\"My name is Nico\")\n",
    "\n",
    "memory.load_memory_variables({})"
   ]
  },
  {
   "cell_type": "markdown",
   "metadata": {},
   "source": [
    "# 5.7. LCEL Based Memory!"
   ]
  },
  {
   "cell_type": "code",
   "execution_count": 18,
   "metadata": {},
   "outputs": [
    {
     "name": "stdout",
     "output_type": "stream",
     "text": [
      "{'question': 'My name is Nico'}\n"
     ]
    },
    {
     "data": {
      "text/plain": [
       "AIMessage(content='Hello Nico! How can I assist you today?')"
      ]
     },
     "execution_count": 18,
     "metadata": {},
     "output_type": "execute_result"
    }
   ],
   "source": [
    "from langchain.memory import ConversationSummaryBufferMemory\n",
    "from langchain.chat_models import ChatOpenAI\n",
    "from langchain.schema.runnable import RunnablePassthrough\n",
    "from langchain.prompts import ChatPromptTemplate, MessagesPlaceholder\n",
    "\n",
    "llm = ChatOpenAI(temperature=0.1)\n",
    "\n",
    "memory = ConversationSummaryBufferMemory(\n",
    "    llm=llm,\n",
    "    max_token_limit=120,\n",
    "    memory_key=\"chat_history\",\n",
    "    return_messages=True\n",
    ")\n",
    "# buffer memroy key와 meesages placeholder variable_name가 같다.\n",
    "\n",
    "# template 대신에\n",
    "prompt = ChatPromptTemplate.from_messages([\n",
    "    (\"system\", \"You are a helpful AI talking to a human\"),\n",
    "    MessagesPlaceholder(variable_name=\"chat_history\"),\n",
    "    (\"human\", \"{question}\"),\n",
    "])\n",
    "\n",
    "def load_memory(_):\n",
    "    return memory.load_memory_variables({})[\"chat_history\"]\n",
    "    \n",
    "chain = RunnablePassthrough.assign(chat_history=load_memory) | prompt | llm\n",
    "\n",
    "\n",
    "chain.invoke({\"question\": \"My name is Nico\"})"
   ]
  },
  {
   "cell_type": "markdown",
   "metadata": {},
   "source": [
    "- 각 대화를 저장하려면 체인을 호출하는 함수를 만드는 것"
   ]
  },
  {
   "cell_type": "code",
   "execution_count": 31,
   "metadata": {},
   "outputs": [],
   "source": [
    "from langchain.memory import ConversationSummaryBufferMemory\n",
    "from langchain.chat_models import ChatOpenAI\n",
    "from langchain.schema.runnable import RunnablePassthrough\n",
    "from langchain.prompts import ChatPromptTemplate, MessagesPlaceholder\n",
    "\n",
    "llm = ChatOpenAI(temperature=0.1)\n",
    "\n",
    "memory = ConversationSummaryBufferMemory(\n",
    "    llm=llm,\n",
    "    max_token_limit=120,\n",
    "    # memory_key=\"chat_history\", >> default 값이 history임\n",
    "    return_messages=True\n",
    ")\n",
    "# buffer memroy key와 meesages placeholder variable_name가 같다.\n",
    "\n",
    "# template 대신에\n",
    "prompt = ChatPromptTemplate.from_messages([\n",
    "    (\"system\", \"You are a helpful AI talking to a human\"),\n",
    "    MessagesPlaceholder(variable_name=\"history\"),\n",
    "    (\"human\", \"{question}\"),\n",
    "])\n",
    "\n",
    "def load_memory(_):\n",
    "    return memory.load_memory_variables({})[\"history\"]\n",
    "    \n",
    "chain = RunnablePassthrough.assign(history=load_memory) | prompt | llm\n",
    "\n",
    "def invoke_chain(question):\n",
    "    result = chain.invoke({\"question\": question})\n",
    "    memory.save_context({\"input\":question},\n",
    "    {\"output\":result.content})\n",
    "    print(result)"
   ]
  },
  {
   "cell_type": "code",
   "execution_count": 32,
   "metadata": {},
   "outputs": [
    {
     "name": "stdout",
     "output_type": "stream",
     "text": [
      "content=\"Hello HyeonSeung! It's nice to meet you. How can I assist you today?\"\n"
     ]
    }
   ],
   "source": [
    "invoke_chain(\"Hello, My name is HyeonSeung.\")"
   ]
  },
  {
   "cell_type": "code",
   "execution_count": 33,
   "metadata": {},
   "outputs": [
    {
     "name": "stdout",
     "output_type": "stream",
     "text": [
      "content='Your name is HyeonSeung.'\n"
     ]
    }
   ],
   "source": [
    "invoke_chain(\"What is my name?\")"
   ]
  },
  {
   "cell_type": "code",
   "execution_count": 34,
   "metadata": {},
   "outputs": [
    {
     "name": "stdout",
     "output_type": "stream",
     "text": [
      "content=\"As an AI, I don't have personal relationships or emotions, so I don't have a girlfriend or any personal experiences. However, I'm here to assist and provide information on various topics. Is there anything specific you'd like to know or discuss?\"\n"
     ]
    }
   ],
   "source": [
    "invoke_chain(\"Do you have girlfriend?\")"
   ]
  },
  {
   "cell_type": "code",
   "execution_count": 35,
   "metadata": {},
   "outputs": [
    {
     "data": {
      "text/plain": [
       "{'history': [SystemMessage(content='The human introduces themselves as HyeonSeung.'),\n",
       "  AIMessage(content=\"Hello HyeonSeung! It's nice to meet you. How can I assist you today?\"),\n",
       "  HumanMessage(content='What is my name?'),\n",
       "  AIMessage(content='Your name is HyeonSeung.'),\n",
       "  HumanMessage(content='Do you have girlfriend?'),\n",
       "  AIMessage(content=\"As an AI, I don't have personal relationships or emotions, so I don't have a girlfriend or any personal experiences. However, I'm here to assist and provide information on various topics. Is there anything specific you'd like to know or discuss?\")]}"
      ]
     },
     "execution_count": 35,
     "metadata": {},
     "output_type": "execute_result"
    }
   ],
   "source": [
    "memory.load_memory_variables({})"
   ]
  },
  {
   "cell_type": "code",
   "execution_count": 28,
   "metadata": {},
   "outputs": [
    {
     "name": "stdout",
     "output_type": "stream",
     "text": [
      "content=\"I'm sorry, but I don't have access to personal information about individuals unless it has been shared with me in the course of our conversation. I am designed to respect user privacy and confidentiality. My primary function is to provide information and assist with tasks to the best of my abilities. How can I assist you today?\"\n"
     ]
    }
   ],
   "source": [
    "invoke_chain(\"What is my name?\")"
   ]
  },
  {
   "cell_type": "markdown",
   "metadata": {},
   "source": [
    "# 5.8. Recap"
   ]
  },
  {
   "cell_type": "code",
   "execution_count": null,
   "metadata": {},
   "outputs": [],
   "source": []
  },
  {
   "cell_type": "markdown",
   "metadata": {},
   "source": [
    "# 6.0 RAG\n",
    "- Retrieval Augmented Generation(검색 증강 생성)\n",
    "- 검색 엔진이라는 것임"
   ]
  },
  {
   "cell_type": "markdown",
   "metadata": {},
   "source": [
    "# 6.1. Data Loaders and Splitters \n",
    "- Retrieval\n",
    "- Source > Load > Transform > Embed > Store > Retrieve"
   ]
  },
  {
   "cell_type": "code",
   "execution_count": 1,
   "metadata": {},
   "outputs": [
    {
     "data": {
      "text/plain": [
       "[Document(page_content='DEMI AN \\n\\n* \\n\\n\\n\\nHERMANN \\n\\nHESSE \\n\\nDEMIAN \\n\\n* \\n\\n\\nTranslated by W. J. Strachan \\n\\n\\n\\nLondon \\n\\n\\n\\nPrologue \\n\\n\\nI cannot tell my story without going a long way back. \\nIf it were possible I would go back much farther still to \\nthe very earliest years of my childhood and beyond them \\nto my family origins. \\n\\nWhen poets write novels they are apt to behave as if \\nthey were gods, with the power to look beyond and com- \\nprehend any human story and serve it up as if the \\nAlmighty himself, omnipresent, were relating it in all \\nits naked truth. That I am no more able to do than the \\npoets. But my story is more important to me than any \\npoet’s story to him, for it is my own — and it is the story \\nof a human being — not an invented, idealised person \\nbut a real, live, unique being. What constitutes a real, \\nlive human being is more of a mystery than ever these \\ndays, and men — each one of whom is a valuable, unique \\nexperiment on the part of nature — are shot down whole- \\nsale. If, however, we were not something more than \\nunique human beings and each man jack of us could \\nreally be dismissed from this world with a bullet, there \\nwould be no more point in relating stories at all. But \\nevcpy man is not only himself; he is also the unique, \\nparticular, always significant and remarkable point \\nwhere the phenomena of the world intersect once and \\nfor all and never again. That is why every man’s story \\n\\n\\n5 \\n\\n\\n\\nDEMIAN \\n\\n\\nis important, eternal, sacred; and why every man while \\nhe lives and fulfils the will of nature is a wonderful \\ncreature, deserving the utmost attention. In each indi- \\nvidual the spirit is made -flesh, in each one the whole of \\ncreation suffers, in each one a Saviour is crucified. \\n\\nFew people nowadays know what man is. Many feel it \\nintuitively and die more easily for that reason, just as I \\nshall die more easily when I have completed this story. \\n\\nI cannot call myself a scholar. I have always been and \\nstill am a seeker but I no longer do my seeking among \\nthe stars or in books. I am beginning to hear the lessons \\nwhich whisper in my blood. Mine is not a pleasant story, \\nit does not possess the gentle harmony of invented tales; \\nlike the lives of all men who have given up trying to \\ndeceive themselves, it is a mixture of nonsense and \\nchaos, madness and dreams. \\n\\nThe life of every man is a way to himself, an attempt \\nat a way, the suggestion of a path. No man has ever \\nbeen utterly himself, yet every man strives to be so, the \\ndull, the intelligent, each one as best he can. Each man \\nto the end of his days carries round with him vestiges \\nof his birth — the slime and egg-shells of the primeval \\nworld. There are many who never become human; they \\nremain frogs, lizards, ants. Many men are human beings \\nabove and fish below. Yet each one represents an attempt \\non the part of nature to create a human being. We \\nenjoy a common origin in our mothers; we all come \\nfrom the same pit. But each individual, who is himself \\nan experimental throw from the depths, strives towards \\nhis own goal. We can understand each other; but each \\nperson is able to interpret himself to himself alone. \\n\\n6 \\n\\n\\n\\nI \\n\\n\\nTwo Worlds \\n\\n\\nI begin my story with an event from the time when I \\nwas ten years old, attending the local grammar school \\nin our small country town. \\n\\nI can still catch the fragrance of many things which \\nstir me with feelings of melancholy and send delicious \\nshivers of delight through me — dark and sunlit streets, \\nhouses and towers, clock chimes and people’s faces, rooms \\nfull of comfort and warm hospitality, rooms full of \\nsecret and profound, ghostly fears. It is a world that \\nsavours of warm corners, rabbits, servant girls, household \\nremedies and dried fruit. It was the meeting-place of two \\nworlds; day and night came thither from two opposite \\npoles. \\n\\nThere was the world of my parents\\' house, or rather it \\nwas even more circumscribed and embraced only my \\nparents themselves. This world was familiar to me in \\nalmost every aspect — it meant mother and father, love \\nand severity, model behaviour and school. It was a world \\nof quiet brilliance, clarity and cleanliness; in it gentle \\nand friendly conversation, washed hands, clean clothes \\nand good manners were the order of the day. In this \\nworld the morning hymn was sung, Christmas celebrated. \\nThrough it ran straight lines and paths that led into the \\nfuture; here were duty and guilt, bad conscience and \\n\\n\\n7 \\n\\n\\n\\n\\nDEMI AN \\n\\n\\nconfessions, forgiveness and good resolutions, love and \\nreverence, wisdom and Bible readings. In this world you \\nhad to conduct yourself so that life should be pure, \\nunsullied, beautiful and Well-ordered. \\n\\nThe other world, however, also began in the middle \\nof our own house and was completely different; it smelt \\ndifferent, spoke a different language, made different \\nclaims and promises. This second world was peopled \\nwith servant girls and workmen, ghost stories and scan- \\ndalous rumours, a gay tide of monstrous, intriguing, \\nfrightful, mysterious things; it included the slaughter- \\nhouse and the prison, drunken and scolding women, \\ncows in labour, foundered horses, tales of housebreaking, \\nmurder and suicide. All these attractive and hideous, \\nwild and cruel things were on every side, in the next \\nstreet, the neighbouring house. Policemen and tramps \\nmoved about in it, drunkards beat their wives, bunches \\nof young women poured out of the factories in the even- \\ning, old women could put a spell on you and make you \\nill; thieves lived in the wood; incendiaries were caught \\nby mounted gendarmes. Everywhere you could smell this \\nvigorous, second world — everywhere, that is, except in \\nour house where my mother and father lived. There it \\nwas all goodness. It was wonderful to be living in a \\nhouse in a reign of peace, order, tranquillity, duty and \\ngood conscience, forgiveness and love — but it was no less \\nwonderful to know there was the other, the loud and \\nshrill, sullen and violent world from which you could \\ndart back to your mother in one leap. \\n\\nThe odd thing about it was that these worlds should \\nborder on each other so closely. When, for example, our \\n\\n\\n8 \\n\\n\\n\\nTWO WORLDS \\n\\n\\nservant Lina sat by the door in the living-room at even- \\ning prayers and joined in the hymn in her dear voice, \\nher freshly washed hands folded on her smoothed down \\npinafore, she belonged wholly and utterly to mother \\nand father, to us, the world of light and righteousness. \\nBut when in the kitchen or woodshed immediately after- \\nwards she told me the story of the little headless man or \\nstarted bickering with her neighbours in the little \\nbutcher’s shop, she became a different person, belonged \\nto another world and was veiled in mystery. And it was \\nthe same with everybody, most of all with myself. Doubt- \\nless I was part of the world of light and righteousness \\nas the child of my parents, but wherever I listened or \\ndirected my gaze I found the other thing and I lived \\nhalf in the other world, although it was often strangely \\nalien to me and I inevitably suffered from panic and a \\nbad conscience. Indeed at times I preferred life in the \\nforbidden world and my return to the world of light — \\nnecessary and worthy though it might be — was often \\nalmost like a return something less attractive, some- \\nthing both more drab and tedious. I was often conscious \\nthat my destiny in life was to become like my father \\nand mother; pure, righteous and disciplined; but that \\nwas a long way ahead; first one had to sit studying at \\nschool, do tests and examinations, and the way always \\nled through and past the other, dark world and it was \\nnot impossible that one might remain permanently in \\nit. I had read, with passionate interest, stories of prodigal \\nsons to whom this had happened. There was always the \\nreturn to their father and the path of righteousness that \\nwas so fine and redeeming that I felt convinced that this \\n\\n\\n9 \\n\\n\\n\\nDEMI AN \\n\\n\\nalone was the right, good, worthy thing; and yet I found \\nthe part of the story which was played among the wicked \\nand lost souls far more, alluring. *If it had been per- \\nmissible to speak out and confess, I should have admitted \\nthat it often seemed a shame to me that the Prodigal \\nSon should atone and be ‘found’ again — though this \\nfeeling was only vaguely present deep down within me \\nlike a presentiment or possibility. When I pictured the \\ndevil to myself, I found no difficulty in visualizing him \\nin the street below, disguised or undisguised, or at the \\nfair or in a tavern but never at home. \\n\\nMy sisters belonged likewise to the world of light. It \\noften seemed to me that they were closer in temperament \\nto father and mother, better and more refined and with \\nfewer faults than I. Of course they had their defects and \\ntheir vagaries but these did not appear to me to go very \\ndeep. It was not as with me whose contact with evil \\ncould become so oppressive and painful and to whom \\nthe dark world lay so much closer. My sisters, like my \\nparents, were to be spared and respected, and if one \\nquarrelled with them one always felt in the wrong after- \\nwards; as if one were the instigator, who must crave \\nforgiveness. For in offending my sisters, I was offending \\nmy parents, which made me guilty of a breach of good \\nconduct. There were secrets that I would have been less \\nreluctant to tell the most reprobate street urchin than \\nmy sisters. On good days when everything seemed light \\nand my conscience in good order, I enjoyed playing \\nwith them, being good and kind to them and seeing \\nmyself sharing their aura of nobility. It was like a fore- \\ntaste of being an angel I That was the highest thing we \\n\\n\\n10 \\n\\n\\n\\nTWO WORLDS \\n\\n\\ncould conceive of and we thought it would be sweet \\nand wonderful to be angels, surrounded with sweet \\nmusic and fragrance reminiscent of Christmas and happi- \\nness. How rarely did such hours and days come along! \\n\\nI would often be engaged in some harmless and author- \\nized game which became too exciting and vigorous for \\nmy sisters and led to squabbles and misery, and when I \\nlost my temper I was terrible and did and said things \\nthat seemed so depraved to me that they seared my heart \\neven as I was in the act of doing and saying them. These \\noccasions were followed by gloomy hours of sorrow and \\npenitence and the painful moment when I begged for- \\ngiveness and then, once again, a beam of light, a tran- \\nquil, grateful unclouded goodness for hours — or mom- \\nents as the case might be. \\n\\nI attended the local grammar school. The mayor’s \\nson and the head forester’s son were in my class and \\nsometimes joined me. They were wild fellows, yet they \\nbelonged to the ‘respectable’ world. But I also had dose \\nrelations with neighbours’ sons, village lads on whom \\nwe normally looked down. It is with one of these that \\nmy story begins \\n\\nOne half-holiday — I was little more than ten years old \\n— I was playing around with two boys from the neigh- \\nbourhood. A bigger boy joined us, a rough, burly lad of \\nabout thirteen from the village school, the tailor’s son. \\nHis father drank, and the whole family had a bad name. \\nI knew Franz Kromer well, and went about in fear of \\nhim so that I felt very uneasy when he came along. He \\nhad already acquired grown-up ways and imitated the \\nwalk and speech of the young factory workers. With him \\n\\n\\n11 \\n\\n\\n\\nDEMI AN \\n\\n\\nas ringleader we climbed down the river bank near the \\nbridge and hid ourselves away from the world under the \\nfirst arch. The narrow strip between the vaulted bridge \\nand the lazily flowing river consisted of nothing but \\ngeneral rubbish and broken pots, tangles of rusty barbed \\nwire and similar jetsam. Occasionally we came across \\nthings we could make use of. We had to comb these \\nstretches of bank under Franz Kromer’s orders and show \\nhim our discoveries. These he either kept himself or \\nthrew into the water. We were told to notice whether \\nthere were any items made of lead, brass or tin He \\nretained these together with an old comb made of horn. \\nI was very uncomfortable in his presence, not because I \\nknew my father would forbid this relationship but out \\nof fear of Franz himself, but I was grateful for being \\nincluded, and treated like the others. He gave the orders \\nand we obeyed as if it was an old custom, although it \\nwas my first time. \\n\\nAt length we sat down on the ground; Franz spat into \\nthe water and looked like a grown-up; he spat through a \\ngap between his teeth and scored a hit wherever he \\naimed. A conversation started and the boys boasted \\nabout their grand deeds and beastly tricks. I remained \\nsilent and yet feared to offend by my silence and incur \\nKromer’s wrath. Both my comrades had made up to \\nhim, and avoided me from the start. I was a stranger \\namong them and felt that my clothes and manners were \\ntaken as a kind of challenge. Franz could not possibly \\nhave any love for me, a grammar schoor boy and a \\ngentleman’s son and I was in no doubt that the other \\ntwo, if it came to it, would disown and desert me. \\n\\n\\n12 \\n\\n\\n\\nTWO WORLDS \\n\\n\\nFinally, out of sheer nervousness, I began to talk. I \\ninvented a long story of robbery, in which I featured as \\nthe hero. One night in the corner by the mill a friend \\nand I had stolen a whole sackful of apples, not just \\nordinary apples but pippins, golden pippins of the best \\nkind at that. I was taking refuge in my story from the \\ndangers of the moment and found no difficulty in invent- \\ning and relating it. In order not to dry up too soon and \\nperhaps become involved in something worse, I gave full \\nrein to my narrative powers. One of us, I reported, had \\nalways stood guard while the other sat in the tree and \\nchucked the apples down, and the sack had got so heavy \\nthat in the end we had to open it and leave half behind, \\nbut we came back half an hour later and fetched them \\ntoo. \\n\\nI hoped for some applause at the end of my story; I \\nhad warmed up to the narrative at last, carried away by \\nmy own eloquence. The two smaller boys were silent, \\nwaiting, but Franz Kromer gave me a penetrating look \\nthrough his narrowH. eyes. \"Is that yarn true?” he \\nasked in a menacing tone. \\n\\n\"Yes,” I said. \\n\\n\"Really and truly?” \\n\\n“Yes, really and truly,” I asserted defiantly while I \\nchoked inwardly with fear. \\n\\n\"Can you swear to it?” \\n\\nI was very afraid but I said ‘Yes’ without hesitation. \\n\\n\"Hand on your heart?” \\n\\n\"Hand on my heart;” \\n\\n\"Right then,” he said and turned away. \\n\\nI thought this was all very satisfactory and I was glad \\n\\n13 \\n\\n\\n\\nDE M I AN \\n\\n\\nwhen he got up and turned to go home. When we were \\non the bridge I ventured timidly that I must go home. \\n\\n\"No desperate hurry/’ Franz laughed. \"We go the \\nsame way.\" \\n\\nHe sauntered along slowly and I did not dare to go \\n.ahead, but he was in fact going in the direction of our \\nhouse. When we arrived, and I saw our front door and \\nthe fat doorknocker, the sun in the windows and the \\ncurtains in my mother’s room, I breathed a sigh of \\nrelief. Back home I O good, blessed home-coming back \\nto the world of light and peace I \\n\\nWhen I had quickly opened the door and slipped in \\nready to slam it behind me, Franz Kromer edged in too. \\nIn the cool, gloomy paved passage which was lit solely \\nfrom the courtyard he stood close to me and said in a \\nlow voice, \"No hurry, you I ” \\n\\nI looked at him terrified. His grip on my arm was \\nlike a vice. I tried to guess what was going on in his \\nmind and whether he was going to do me some mischief. \\nIf I were to let out a loud and vigorous shriek would \\nsome one above be quick enough to save me? But I \\ngave up the idea. \\n\\n“What is it?” I asked, “what do you want?” \\n\\n\"Oh nothing much, I merely wanted to ask you some- \\nthing. The others needn’t hear.” \\n\\n\"Well? What do you want me to tell you? I must go \\nup, you know.” \\n\\n“I suppose you know who owns the orchard by the \\ncorner mill?” \\n\\n\"No, I don’t. The miller I think.” \\n\\nFranz had put his arm round me and drawn me close \\n', metadata={'source': './files/Demian test.txt'})]"
      ]
     },
     "execution_count": 1,
     "metadata": {},
     "output_type": "execute_result"
    }
   ],
   "source": [
    "from langchain.document_loaders import TextLoader\n",
    "\n",
    "loader = TextLoader(\"./files/Demian test.txt\")\n",
    "loader.load()"
   ]
  },
  {
   "cell_type": "code",
   "execution_count": 2,
   "metadata": {},
   "outputs": [
    {
     "data": {
      "text/plain": [
       "[Document(page_content='DEMI AN  \\n \\n*  \\n \\n \\n \\nHERMANN  \\n \\nHESSE  \\n \\nDEMIAN  \\n \\n*  \\n \\n \\nTranslated by W. J. Strachan  \\n \\n \\n \\nLondon  \\n \\n \\n \\nPrologue  \\n \\n ', metadata={'source': './files/Demian test.pdf', 'page': 0}),\n",
       " Document(page_content='I cannot tell my story without going a long way back.  \\nIf it were possible I would go back much farther still to  \\nthe very earliest years of my childhood and beyond them  \\nto my family origins.  \\n \\nWhen poets write novels they are apt to behave as if  \\nthey were gods, with the power to look beyond and com -  \\nprehend any human story and serve it up as if the  \\nAlmighty himself, omnipresent, were relating it in all  \\nits naked truth. That I am no more able to do than the  \\npoets. But my story is more important to me than any  \\npoet’s story to him, for it is my own — and it is the story  \\nof a human being — not an invented, idealised person  \\nbut a real, live, unique being. What constitutes a real,  \\nlive human being is more of a mystery than ever these  \\ndays, and men — each one of whom is a valuable, unique  \\nexperiment on the part of nature — are shot down whole -  \\nsale. If, however, we were not something more than  \\nunique human beings and each man jack of us could  \\nreally be dismissed from this world with a bullet, there  \\nwould be no more point in relating stories at all. But  \\nevcpy man is not only himself; he is also the unique,  \\nparticular, always significant and remarkable point  \\nwhere the phenomena of the world intersect once and  \\nfor all and never again. That is why every man’s story  \\n ', metadata={'source': './files/Demian test.pdf', 'page': 1}),\n",
       " Document(page_content=' \\n5  \\n \\n \\n \\nDEMIAN  \\n \\n \\nis important, eternal, sacred; and why every man while  \\nhe lives and fulfils the will of nature is a wonderful  \\ncreature, deserving the utmost attention. In each indi -  \\nvidual the spirit is made -flesh, in each one the whole of  \\ncreation suffers, in each one a Saviour is crucified.  \\n \\nFew people nowadays know what man is. Many feel it  \\nintuitively and die more easily for that reason, just as I  \\nshall die more easily when I have completed this story.  \\n \\nI cannot call myself a scholar. I have always been and  \\nstill am a seeker but I no longer do my seeking among  \\nthe stars or in books. I am beginning to hear the lessons  \\nwhich whisper in my blood. Mine is not a pleasant story,  \\nit does not possess the gentle harmony of invented tales;  \\nlike the lives of all men who have given up trying to  \\ndeceive themselves, it is a mixture of nonsense and  \\nchaos, madness and dreams.  ', metadata={'source': './files/Demian test.pdf', 'page': 2}),\n",
       " Document(page_content=' \\nThe life of every man is a way to himself, an attempt  \\nat a way, the suggestion of a path. No man has ever  \\nbeen utterly himself, yet every man strives to be so, the  \\ndull, the intelligent, each one as best he can. Each man  \\nto the end of his days carries round with him vestiges  \\nof his birth — the slime and egg -shells of the primeval  \\nworld. There are many who never become human; they  \\nremain frogs, lizards, ants. Many men are human beings  \\nabove and fish below. Yet each one represents an attempt  \\non the part of nature to create a human being. We  \\nenjoy a common origin in our mothers; we all come  \\nfrom the same pit. But each individual, who is himself  \\nan experimental throw from the depths, strives towards  \\nhis own goal. We can understand each other; but each  \\nperson is able to interpret himself to himself alone.  \\n \\n6  \\n \\n \\n \\nI  \\n \\n \\nTwo Worlds  \\n ', metadata={'source': './files/Demian test.pdf', 'page': 3}),\n",
       " Document(page_content=\" \\nI begin my story with an event from the time when I  \\nwas ten years old, attending the local grammar school  \\nin our small country town.  \\n \\nI can still catch the fragrance of many things which  \\nstir me with feelings of melancholy and send delicious  \\nshivers of delight through me — dark and sunlit streets,  \\nhouses and towers, clock chimes and people’s faces, rooms  \\nfull of comfort and warm hospitality, rooms full of  \\nsecret and profound, ghostly fears. It is a world that  \\nsavours of warm corners, rabbits, servant girls, household  \\nremedies and dried fruit. It was the meeting -place of two  \\nworlds; day and night came thither from two opposite  \\npoles.  \\n \\nThere was the world of my parents' house, or rather it  \\nwas even more circumscribed and embraced only my  \\nparents themselves. This world was familiar to me in  \\nalmost every aspect — it meant mother and father, love  \\nand severity, model behaviour and school. It was a world  \\nof quiet brilliance, clarity and cleanliness; in it gentle  \\nand friendly conversation, washed hands, clean clothes  \\nand good manners were the order of the day. In this  \\nworld the morning hymn was sung, Christmas celebrated.  \\nThrough it ran straight lines and paths that led into the  \", metadata={'source': './files/Demian test.pdf', 'page': 4}),\n",
       " Document(page_content='future; here were duty and guilt, bad conscience and  \\n \\n \\n7  \\n \\n \\n \\n \\nDEMI AN  \\n \\n \\nconfessions, forgiveness and good resolutions, love and  \\nreverence, wisdom and Bible readings. In this world you  \\nhad to conduct yourself so that life should be pure,  \\nunsullied, beautiful and Well -ordered.  \\n \\nThe other world, however, also began in the middle  \\nof our own house and was completely different; it smelt  \\ndifferent, spoke a different language, made different  \\nclaims and promises. This second world was peopled  \\nwith servant girls and workmen, ghost stories and scan -  \\ndalous rumours, a gay tide of monstrous, intriguing,  \\nfrightful, mysterious things; it included the slaughter -  \\nhouse and the prison, drunken and scolding women,  \\ncows in labour, foundered horses, tales of housebreaking,  \\nmurder and suicide. All these attractive and hideous,  ', metadata={'source': './files/Demian test.pdf', 'page': 5}),\n",
       " Document(page_content='wild and cruel things were on every side, in the next  \\nstreet, the neighbouring house. Policemen and tramps  \\nmoved about in it, drunkards beat their wives, bunches  \\nof young women poured out of the factories in the even -  \\ning, old women could put a spell on you and make you  \\nill; thieves lived in the wood; incendiaries were caught  \\nby mounted gendarmes. Everywhere you could smell this  \\nvigorous, second world — everywhere, that is, except in  \\nour house where my mother and father lived. There it  \\nwas all goodness. It was wonderful to be living in a  \\nhouse in a reign of peace, order, tranquillity, duty and  \\ngood conscience, forgiveness and love — but it was no less  \\nwonderful to know there was the other, the loud and  \\nshrill, sullen and violent world from which you could  \\ndart back to your mother in one leap.  \\n \\nThe odd thing about it was that these worlds should  \\nborder on each other so closely. When, for example, our  \\n \\n \\n8  \\n \\n \\n \\nTWO WORLDS  \\n ', metadata={'source': './files/Demian test.pdf', 'page': 6}),\n",
       " Document(page_content=' \\nservant Lina sat by the door in the living -room at even -  \\ning prayers and joined in the hymn in her dear voice,  \\nher freshly washed hands folded on her smoothed down  \\npinafore, she belonged wholly and utterly to mother  \\nand father, to us, the world of light and righteousness.  \\nBut when in the kitchen or woodshed immediately after -  \\nwards she told me the story of the little headless man or  \\nstarted bickering with her neighbours in the little  \\nbutcher’s shop, she became a different person, belonged  \\nto another world and was veiled in mystery. And it was  \\nthe same with everybody, most of all with myself. Doubt -  \\nless I was part of the world of light and righteousness  \\nas the child of my parents, but wherever I listened or  \\ndirected my gaze I found the other thing and I lived  \\nhalf in the other world, although it was often strangely  \\nalien to me and I inevitably suffered from panic and a  \\nbad conscience. Indeed at times I preferred life in the  \\nforbidden world and my return to the world of light —  \\nnecessary and worthy though it might be — was often  \\nalmost like a return something less attractive, some -  \\nthing both more drab and tedious. I was often conscious  \\nthat my destiny in life was to become like my father  \\nand mother; pure, righteous and disciplined; but that  \\nwas a long way ahead; first one had to sit studying at  \\nschool, do tests and examinations, and the way always  ', metadata={'source': './files/Demian test.pdf', 'page': 7}),\n",
       " Document(page_content='led through and past the other, dark world and it was  \\nnot impossible that one might remain permanently in  \\nit. I had read, with passionate interest, stories of prodigal  \\nsons to whom this had happened. There was always the  \\nreturn to their father and the path of righteousness that  \\nwas so fine and redeeming that I felt convinced that this  \\n \\n \\n9  \\n \\n \\n \\nDEMI AN  \\n \\n \\nalone was the right, good, worthy thing; and yet I found  \\nthe part of the story which was played among the wicked  \\nand lost souls far more, alluring. *If it had been per -  \\nmissible to speak out and confess, I should have admitted  \\nthat it often seemed a shame to me that the Prodigal  \\nSon should atone and be ‘found’ again — though this  \\nfeeling was only vaguely present deep down within me  \\nlike a presentiment or possibility. When I pictured the  \\ndevil to myself, I found no difficulty in visualizing him  \\nin the street below, disguised or undisguised, or at the  \\nfair or in a tavern but never at home.  ', metadata={'source': './files/Demian test.pdf', 'page': 8}),\n",
       " Document(page_content=' \\nMy sisters belonged likewise to the world of light. It  \\noften seemed to me that they were closer in temperament  \\nto father and mother, better and more refined and with  \\nfewer faults than I. Of course they had their defects and  \\ntheir vagaries but these did not appear to me to go very  \\ndeep. It was not as with me whose contact with evil  \\ncould become so oppressive and painful and to whom  \\nthe dark world lay so much closer. My sisters, like my  \\nparents, were to be spared and respected, and if one  \\nquarrelled with them one always felt in the wrong after -  \\nwards; as if one were the instigator, who must crave  \\nforgiveness. For in offending my sisters, I was offending  \\nmy parents, which made me guilty of a breach of good  \\nconduct. There were secrets that I would have been less  \\nreluctant to tell the most reprobate street urchin than  \\nmy sisters. On good days when everything seemed light  \\nand my conscience in good order, I enjoyed playing  \\nwith them, being good and kind to them and seeing  \\nmyself sharing their aura of nobility. It was like a fore -  \\ntaste of being an angel I That was the highest thing we  \\n \\n \\n10  \\n \\n ', metadata={'source': './files/Demian test.pdf', 'page': 9}),\n",
       " Document(page_content=' \\nTWO WORLDS  \\n \\n \\ncould conceive of and we thought it would be sweet  \\nand wonderful to be angels, surrounded with sweet  \\nmusic and fragrance reminiscent of Christmas and happi -  \\nness. How rarely did such hours and days come along!  \\n \\nI would often be engaged in some harmless and author -  \\nized game which became too exciting and vigorous for  \\nmy sisters and led to squabbles and misery, and when I  \\nlost my temper I was terrible and did and said things  \\nthat seemed so depraved to me that they seared my heart  \\neven as I was in the act of doing and saying them. These  \\noccasions were followed by gloomy hours of sorrow and  \\npenitence and the painful moment when I begged for -  \\ngiveness and then, once again, a beam of light, a tran -  \\nquil, grateful unclouded goodness for hours — or mom -  \\nents as the case might be.  \\n \\nI attended the local grammar school. The mayor’s  \\nson and the head forester’s son were in my class and  \\nsometimes joined me. They were wild fellows, yet they  \\nbelonged to the ‘respectable’ world. But I also had dose  \\nrelations with neighbours’ sons, village lads on whom  ', metadata={'source': './files/Demian test.pdf', 'page': 10}),\n",
       " Document(page_content='we normally looked down. It is with one of these that  \\nmy story begins  \\n \\nOne half -holiday — I was little more than ten years old  \\n— I was playing around with two boys from the neigh -  \\nbourhood. A bigger boy joined us, a rough, burly lad of  \\nabout thirteen from the village school, the tailor’s son.  \\nHis father drank, and the whole family had a bad name.  \\nI knew Franz Kromer well, and went about in fear of  \\nhim so that I felt very uneasy when he came along. He  \\nhad already acquired grown -up ways and imitated the  \\nwalk and speech of the young factory workers. With him  \\n \\n \\n11  \\n \\n \\n \\nDEMI AN  \\n \\n \\nas ringleader we climbed down the river bank near the  \\nbridge and hid ourselves away from the world under the  \\nfirst arch. The narrow strip between the vaulted bridge  \\nand the lazily flowing river consisted of nothing but  \\ngeneral rubbish and broken pots, tangles of rusty barbed  ', metadata={'source': './files/Demian test.pdf', 'page': 11}),\n",
       " Document(page_content='wire and similar jetsam. Occasionally we came across  \\nthings we could make use of. We had to comb these  \\nstretches of bank under Franz Kromer’s orders and show  \\nhim our discoveries. These he either kept himself or  \\nthrew into the water. We were told to notice whether  \\nthere were any items made of lead, brass or tin He  \\nretained these together with an old comb made of horn.  \\nI was very uncomfortable in his presence, not because I  \\nknew my father would forbid this relationship but out  \\nof fear of Franz himself, but I was grateful for being  \\nincluded, and treated like the others. He gave the orders  \\nand we obeyed as if it was an old custom, although it  \\nwas my first time.  \\n \\nAt length we sat down on the ground; Franz spat into  \\nthe water and looked like a grown -up; he spat through a  \\ngap between his teeth and scored a hit wherever he  \\naimed. A conversation started and the boys boasted  \\nabout their grand deeds and beastly tricks. I remained  \\nsilent and yet feared to offend by my silence and incur  \\nKromer’s wrath. Both my comrades had made up to  \\nhim, and avoided me from the start. I was a stranger  \\namong them and felt that my clothes and manners were  \\ntaken as a kind of challenge. Franz could not possibly  \\nhave any love for me, a grammar schoor boy and a  \\ngentleman’s son and I was in no doubt that the other  ', metadata={'source': './files/Demian test.pdf', 'page': 12}),\n",
       " Document(page_content='two, if it came to it, would disown and desert me.  \\n \\n \\n12  \\n \\n \\n \\nTWO WORLDS  \\n \\n \\nFinally, out of sheer nervousness, I began to talk. I  \\ninvented a long story of robbery, in which I featured as  \\nthe hero. One night in the corner by the mill a friend  \\nand I had stolen a whole sackful of apples, not just  \\nordinary apples but pippins, golden pippins of the best  \\nkind at that. I was taking refuge in my story from the  \\ndangers of the moment and found no difficulty in invent -  \\ning and relating it. In order not to dry up too soon and  \\nperhaps become involved in something worse, I gave full  \\nrein to my narrative powers. One of us, I reported, had  \\nalways stood guard while the other sat in the tree and  \\nchucked the apples down, and the sack had got so heavy  \\nthat in the end we had to open it and leave half behind,  \\nbut we came back half an hour later and fetched them  \\ntoo.  \\n ', metadata={'source': './files/Demian test.pdf', 'page': 13}),\n",
       " Document(page_content='I hoped for some applause at the end of my story; I  \\nhad warmed up to the narrative at last, carried away by  \\nmy own eloquence. The two smaller boys were silent,  \\nwaiting, but Franz Kromer gave me a penetrating look  \\nthrough his narrowH. eyes. \"Is that yarn true?” he  \\nasked in a menacing tone.  \\n \\n\"Yes,” I said.  \\n \\n\"Really and truly?”  \\n \\n“Yes, really and truly,” I asserted defiantly while I  \\nchoked inwardly with fear.  \\n \\n\"Can you swear to it?”  \\n \\nI was very afraid but I said ‘Yes’ without hesitation.  \\n \\n\"Hand on your heart?”  \\n \\n\"Hand on my heart;”  \\n \\n\"Right then,” he said and turned away.  \\n \\nI thought this was all very satisfactory and I was glad  \\n ', metadata={'source': './files/Demian test.pdf', 'page': 14}),\n",
       " Document(page_content='13  \\n \\n \\n \\nDE M I AN  \\n \\n \\nwhen he got up and turned to go home. When we were  \\non the bridge I ventured timidly that I must go home.  \\n \\n\"No desperate hurry/’ Franz laughed. \"We go the  \\nsame way.\"  \\n \\nHe sauntered along slowly and I did not dare to go  \\n.ahead, but he was in fact going in the direction of our  \\nhouse. When we arrived, and I saw our front door and  \\nthe fat doorknocker, the sun in the windows and the  \\ncurtains in my mother’s room, I breathed a sigh of  \\nrelief. Back home I O good, blessed home -coming back  \\nto the world of light and peace I  \\n \\nWhen I had quickly opened the door and slipped in  \\nready to slam it behind me, Franz Kromer edged in too.  \\nIn the cool, gloomy paved passage which was lit solely  \\nfrom the courtyard he stood close to me and said in a  \\nlow voice, \"No hurry, you I ”  ', metadata={'source': './files/Demian test.pdf', 'page': 15}),\n",
       " Document(page_content=' \\nI looked at him terrified. His grip on my arm was  \\nlike a vice. I tried to guess what was going on in his  \\nmind and whether he was going to do me some mischief.  \\nIf I were to let out a loud and vigorous shriek would  \\nsome one above be quick enough to save me? But I  \\ngave up the idea.  \\n \\n“What is it?” I asked, “what do you want?”  \\n \\n\"Oh nothing much, I merely wanted to ask you some -  \\nthing. The others needn’t hear.”  \\n \\n\"Well? What do you want me to tell you? I must go  \\nup, you know.”  \\n \\n“I suppose you know who owns the orchard by the  \\ncorner mill?”  \\n \\n\"No, I don’t. The miller I think.”  \\n \\nFranz had put his arm round me and drawn me close   ', metadata={'source': './files/Demian test.pdf', 'page': 16})]"
      ]
     },
     "execution_count": 2,
     "metadata": {},
     "output_type": "execute_result"
    }
   ],
   "source": [
    "from langchain.chat_models import ChatOpenAI    \n",
    "from langchain.document_loaders import PyPDFLoader\n",
    "\n",
    "loader = PyPDFLoader(\"./files/Demian test.pdf\")\n",
    "loader.load()"
   ]
  },
  {
   "cell_type": "code",
   "execution_count": 4,
   "metadata": {},
   "outputs": [
    {
     "name": "stderr",
     "output_type": "stream",
     "text": [
      "[nltk_data] Downloading package punkt to /config/nltk_data...\n",
      "[nltk_data]   Unzipping tokenizers/punkt.zip.\n",
      "[nltk_data] Downloading package averaged_perceptron_tagger to\n",
      "[nltk_data]     /config/nltk_data...\n",
      "[nltk_data]   Unzipping taggers/averaged_perceptron_tagger.zip.\n"
     ]
    },
    {
     "data": {
      "text/plain": [
       "[Document(page_content='DEMI AN \\n\\nHERMANN \\n\\nHESSE \\n\\nDEMIAN \\n\\nTranslated by W. J. Strachan \\n\\nLondon \\n\\nPrologue \\n\\nI cannot tell my story without going a long way back. \\n\\n\\n\\nIf it were possible I would go back much farther still to \\n\\nthe very earliest years of my childhood and beyond them \\n\\nto my family origins. \\n\\nWhen poets write novels they are apt to behave as if \\n\\nthey were gods, with the power to look beyond and com- \\n\\nprehend any human story and serve it up as if the \\n\\nAlmighty himself, omnipresent, were relating it in all \\n\\nits naked truth. That I am no more able to do than the \\n\\npoets. But my story is more important to me than any \\n\\npoet’s story to him, for it is my own — and it is the story \\n\\nof a human being — not an invented, idealised person \\n\\nbut a real, live, unique being. What constitutes a real, \\n\\nlive human being is more of a mystery than ever these \\n\\ndays, and men — each one of whom is a valuable, unique \\n\\nexperiment on the part of nature — are shot down whole- \\n\\nsale. If, however, we were not something more than \\n\\nunique human beings and each man jack of us could \\n\\nreally be dismissed from this world with a bullet, there \\n\\nwould be no more point in relating stories at all. But \\n\\nevcpy man is not only himself; he is also the unique, \\n\\nparticular, always significant and remarkable point \\n\\nwhere the phenomena of the world intersect once and \\n\\nfor all and never again. That is why every man’s story \\n\\n5 \\n\\nDEMIAN \\n\\nis important, eternal, sacred; and why every man while \\n\\nhe lives and fulfils the will of nature is a wonderful \\n\\ncreature, deserving the utmost attention. In each indi- \\n\\nvidual the spirit is made -flesh, in each one the whole of \\n\\ncreation suffers, in each one a Saviour is crucified. \\n\\nFew people nowadays know what man is. Many feel it \\n\\nintuitively and die more easily for that reason, just as I \\n\\nshall die more easily when I have completed this story. \\n\\nI cannot call myself a scholar. I have always been and \\n\\nstill am a seeker but I no longer do my seeking among \\n\\nthe stars or in books. I am beginning to hear the lessons \\n\\nwhich whisper in my blood. Mine is not a pleasant story, \\n\\nit does not possess the gentle harmony of invented tales; \\n\\nlike the lives of all men who have given up trying to \\n\\ndeceive themselves, it is a mixture of nonsense and \\n\\nchaos, madness and dreams. \\n\\nThe life of every man is a way to himself, an attempt \\n\\nat a way, the suggestion of a path. No man has ever \\n\\nbeen utterly himself, yet every man strives to be so, the \\n\\ndull, the intelligent, each one as best he can. Each man \\n\\nto the end of his days carries round with him vestiges \\n\\nof his birth — the slime and egg-shells of the primeval \\n\\nworld. There are many who never become human; they \\n\\nremain frogs, lizards, ants. Many men are human beings \\n\\nabove and fish below. Yet each one represents an attempt \\n\\non the part of nature to create a human being. We \\n\\nenjoy a common origin in our mothers; we all come \\n\\nfrom the same pit. But each individual, who is himself \\n\\nan experimental throw from the depths, strives towards \\n\\nhis own goal. We can understand each other; but each \\n\\nperson is able to interpret himself to himself alone. \\n\\n6 \\n\\nI \\n\\nTwo Worlds \\n\\nI begin my story with an event from the time when I \\n\\nwas ten years old, attending the local grammar school \\n\\nin our small country town. \\n\\nI can still catch the fragrance of many things which \\n\\nstir me with feelings of melancholy and send delicious \\n\\nshivers of delight through me — dark and sunlit streets, \\n\\nhouses and towers, clock chimes and people’s faces, rooms \\n\\nfull of comfort and warm hospitality, rooms full of \\n\\nsecret and profound, ghostly fears. It is a world that \\n\\nsavours of warm corners, rabbits, servant girls, household \\n\\nremedies and dried fruit. It was the meeting-place of two \\n\\nworlds; day and night came thither from two opposite \\n\\npoles. \\n\\nThere was the world of my parents\\' house, or rather it \\n\\nwas even more circumscribed and embraced only my \\n\\nparents themselves. This world was familiar to me in \\n\\nalmost every aspect — it meant mother and father, love \\n\\nand severity, model behaviour and school. It was a world \\n\\nof quiet brilliance, clarity and cleanliness; in it gentle \\n\\nand friendly conversation, washed hands, clean clothes \\n\\nand good manners were the order of the day. In this \\n\\nworld the morning hymn was sung, Christmas celebrated. \\n\\nThrough it ran straight lines and paths that led into the \\n\\nfuture; here were duty and guilt, bad conscience and \\n\\n\\n\\n7 \\n\\nDEMI AN \\n\\nconfessions, forgiveness and good resolutions, love and \\n\\nreverence, wisdom and Bible readings. In this world you \\n\\nhad to conduct yourself so that life should be pure, \\n\\nunsullied, beautiful and Well-ordered. \\n\\nThe other world, however, also began in the middle \\n\\nof our own house and was completely different; it smelt \\n\\ndifferent, spoke a different language, made different \\n\\nclaims and promises. This second world was peopled \\n\\nwith servant girls and workmen, ghost stories and scan- \\n\\ndalous rumours, a gay tide of monstrous, intriguing, \\n\\nfrightful, mysterious things; it included the slaughter- \\n\\nhouse and the prison, drunken and scolding women, \\n\\ncows in labour, foundered horses, tales of housebreaking, \\n\\nmurder and suicide. All these attractive and hideous, \\n\\nwild and cruel things were on every side, in the next \\n\\n\\n\\nstreet, the neighbouring house. Policemen and tramps \\n\\nmoved about in it, drunkards beat their wives, bunches \\n\\nof young women poured out of the factories in the even- \\n\\ning, old women could put a spell on you and make you \\n\\nill; thieves lived in the wood; incendiaries were caught \\n\\nby mounted gendarmes. Everywhere you could smell this \\n\\nvigorous, second world — everywhere, that is, except in \\n\\nour house where my mother and father lived. There it \\n\\nwas all goodness. It was wonderful to be living in a \\n\\nhouse in a reign of peace, order, tranquillity, duty and \\n\\ngood conscience, forgiveness and love — but it was no less \\n\\nwonderful to know there was the other, the loud and \\n\\nshrill, sullen and violent world from which you could \\n\\ndart back to your mother in one leap. \\n\\nThe odd thing about it was that these worlds should \\n\\nborder on each other so closely. When, for example, our \\n\\n8 \\n\\nTWO WORLDS \\n\\nservant Lina sat by the door in the living-room at even- \\n\\ning prayers and joined in the hymn in her dear voice, \\n\\nher freshly washed hands folded on her smoothed down \\n\\npinafore, she belonged wholly and utterly to mother \\n\\nand father, to us, the world of light and righteousness. \\n\\nBut when in the kitchen or woodshed immediately after- \\n\\nwards she told me the story of the little headless man or \\n\\nstarted bickering with her neighbours in the little \\n\\nbutcher’s shop, she became a different person, belonged \\n\\nto another world and was veiled in mystery. And it was \\n\\nthe same with everybody, most of all with myself. Doubt- \\n\\nless I was part of the world of light and righteousness \\n\\nas the child of my parents, but wherever I listened or \\n\\ndirected my gaze I found the other thing and I lived \\n\\nhalf in the other world, although it was often strangely \\n\\nalien to me and I inevitably suffered from panic and a \\n\\nbad conscience. Indeed at times I preferred life in the \\n\\nforbidden world and my return to the world of light — \\n\\nnecessary and worthy though it might be — was often \\n\\nalmost like a return something less attractive, some- \\n\\nthing both more drab and tedious. I was often conscious \\n\\nthat my destiny in life was to become like my father \\n\\nand mother; pure, righteous and disciplined; but that \\n\\nwas a long way ahead; first one had to sit studying at \\n\\nschool, do tests and examinations, and the way always \\n\\nled through and past the other, dark world and it was \\n\\n\\n\\nnot impossible that one might remain permanently in \\n\\nit. I had read, with passionate interest, stories of prodigal \\n\\nsons to whom this had happened. There was always the \\n\\nreturn to their father and the path of righteousness that \\n\\nwas so fine and redeeming that I felt convinced that this \\n\\n9 \\n\\nDEMI AN \\n\\nalone was the right, good, worthy thing; and yet I found \\n\\nthe part of the story which was played among the wicked \\n\\nand lost souls far more, alluring. *If it had been per- \\n\\nmissible to speak out and confess, I should have admitted \\n\\nthat it often seemed a shame to me that the Prodigal \\n\\nSon should atone and be ‘found’ again — though this \\n\\nfeeling was only vaguely present deep down within me \\n\\nlike a presentiment or possibility. When I pictured the \\n\\ndevil to myself, I found no difficulty in visualizing him \\n\\nin the street below, disguised or undisguised, or at the \\n\\nfair or in a tavern but never at home. \\n\\nMy sisters belonged likewise to the world of light. It \\n\\noften seemed to me that they were closer in temperament \\n\\nto father and mother, better and more refined and with \\n\\nfewer faults than I. Of course they had their defects and \\n\\ntheir vagaries but these did not appear to me to go very \\n\\ndeep. It was not as with me whose contact with evil \\n\\ncould become so oppressive and painful and to whom \\n\\nthe dark world lay so much closer. My sisters, like my \\n\\nparents, were to be spared and respected, and if one \\n\\nquarrelled with them one always felt in the wrong after- \\n\\nwards; as if one were the instigator, who must crave \\n\\nforgiveness. For in offending my sisters, I was offending \\n\\nmy parents, which made me guilty of a breach of good \\n\\nconduct. There were secrets that I would have been less \\n\\nreluctant to tell the most reprobate street urchin than \\n\\nmy sisters. On good days when everything seemed light \\n\\nand my conscience in good order, I enjoyed playing \\n\\nwith them, being good and kind to them and seeing \\n\\nmyself sharing their aura of nobility. It was like a fore- \\n\\ntaste of being an angel I That was the highest thing we \\n\\n10 \\n\\nTWO WORLDS \\n\\ncould conceive of and we thought it would be sweet \\n\\nand wonderful to be angels, surrounded with sweet \\n\\nmusic and fragrance reminiscent of Christmas and happi- \\n\\nness. How rarely did such hours and days come along! \\n\\nI would often be engaged in some harmless and author- \\n\\nized game which became too exciting and vigorous for \\n\\nmy sisters and led to squabbles and misery, and when I \\n\\nlost my temper I was terrible and did and said things \\n\\nthat seemed so depraved to me that they seared my heart \\n\\neven as I was in the act of doing and saying them. These \\n\\noccasions were followed by gloomy hours of sorrow and \\n\\npenitence and the painful moment when I begged for- \\n\\ngiveness and then, once again, a beam of light, a tran- \\n\\nquil, grateful unclouded goodness for hours — or mom- \\n\\nents as the case might be. \\n\\nI attended the local grammar school. The mayor’s \\n\\nson and the head forester’s son were in my class and \\n\\nsometimes joined me. They were wild fellows, yet they \\n\\nbelonged to the ‘respectable’ world. But I also had dose \\n\\nrelations with neighbours’ sons, village lads on whom \\n\\nwe normally looked down. It is with one of these that \\n\\n\\n\\nmy story begins \\n\\nOne half-holiday — I was little more than ten years old \\n\\n— I was playing around with two boys from the neigh- \\n\\nbourhood. A bigger boy joined us, a rough, burly lad of \\n\\nabout thirteen from the village school, the tailor’s son. \\n\\nHis father drank, and the whole family had a bad name. \\n\\nI knew Franz Kromer well, and went about in fear of \\n\\nhim so that I felt very uneasy when he came along. He \\n\\nhad already acquired grown-up ways and imitated the \\n\\nwalk and speech of the young factory workers. With him \\n\\n11 \\n\\nDEMI AN \\n\\nas ringleader we climbed down the river bank near the \\n\\nbridge and hid ourselves away from the world under the \\n\\nfirst arch. The narrow strip between the vaulted bridge \\n\\nand the lazily flowing river consisted of nothing but \\n\\ngeneral rubbish and broken pots, tangles of rusty barbed \\n\\nwire and similar jetsam. Occasionally we came across \\n\\n\\n\\nthings we could make use of. We had to comb these \\n\\nstretches of bank under Franz Kromer’s orders and show \\n\\nhim our discoveries. These he either kept himself or \\n\\nthrew into the water. We were told to notice whether \\n\\nthere were any items made of lead, brass or tin He \\n\\nretained these together with an old comb made of horn. \\n\\nI was very uncomfortable in his presence, not because I \\n\\nknew my father would forbid this relationship but out \\n\\nof fear of Franz himself, but I was grateful for being \\n\\nincluded, and treated like the others. He gave the orders \\n\\nand we obeyed as if it was an old custom, although it \\n\\nwas my first time. \\n\\nAt length we sat down on the ground; Franz spat into \\n\\nthe water and looked like a grown-up; he spat through a \\n\\ngap between his teeth and scored a hit wherever he \\n\\naimed. A conversation started and the boys boasted \\n\\nabout their grand deeds and beastly tricks. I remained \\n\\nsilent and yet feared to offend by my silence and incur \\n\\nKromer’s wrath. Both my comrades had made up to \\n\\nhim, and avoided me from the start. I was a stranger \\n\\namong them and felt that my clothes and manners were \\n\\ntaken as a kind of challenge. Franz could not possibly \\n\\nhave any love for me, a grammar schoor boy and a \\n\\ngentleman’s son and I was in no doubt that the other \\n\\ntwo, if it came to it, would disown and desert me. \\n\\n\\n\\n12 \\n\\nTWO WORLDS \\n\\nFinally, out of sheer nervousness, I began to talk. I \\n\\ninvented a long story of robbery, in which I featured as \\n\\nthe hero. One night in the corner by the mill a friend \\n\\nand I had stolen a whole sackful of apples, not just \\n\\nordinary apples but pippins, golden pippins of the best \\n\\nkind at that. I was taking refuge in my story from the \\n\\ndangers of the moment and found no difficulty in invent- \\n\\ning and relating it. In order not to dry up too soon and \\n\\nperhaps become involved in something worse, I gave full \\n\\nrein to my narrative powers. One of us, I reported, had \\n\\nalways stood guard while the other sat in the tree and \\n\\nchucked the apples down, and the sack had got so heavy \\n\\nthat in the end we had to open it and leave half behind, \\n\\nbut we came back half an hour later and fetched them \\n\\ntoo. \\n\\nI hoped for some applause at the end of my story; I \\n\\n\\n\\nhad warmed up to the narrative at last, carried away by \\n\\nmy own eloquence. The two smaller boys were silent, \\n\\nwaiting, but Franz Kromer gave me a penetrating look \\n\\nthrough his narrowH. eyes. \"Is that yarn true?” he \\n\\nasked in a menacing tone. \\n\\n\"Yes,” I said. \\n\\n\"Really and truly?” \\n\\n“Yes, really and truly,” I asserted defiantly while I \\n\\nchoked inwardly with fear. \\n\\n\"Can you swear to it?” \\n\\nI was very afraid but I said ‘Yes’ without hesitation. \\n\\n\"Hand on your heart?” \\n\\n\"Hand on my heart;” \\n\\n\"Right then,” he said and turned away. \\n\\nI thought this was all very satisfactory and I was glad \\n\\n13 \\n\\n\\n\\nDE M I AN \\n\\nwhen he got up and turned to go home. When we were \\n\\non the bridge I ventured timidly that I must go home. \\n\\n\"No desperate hurry/’ Franz laughed. \"We go the \\n\\nsame way.\" \\n\\nHe sauntered along slowly and I did not dare to go \\n\\n.ahead, but he was in fact going in the direction of our \\n\\nhouse. When we arrived, and I saw our front door and \\n\\nthe fat doorknocker, the sun in the windows and the \\n\\ncurtains in my mother’s room, I breathed a sigh of \\n\\nrelief. Back home I O good, blessed home-coming back \\n\\nto the world of light and peace I \\n\\nWhen I had quickly opened the door and slipped in \\n\\nready to slam it behind me, Franz Kromer edged in too. \\n\\nIn the cool, gloomy paved passage which was lit solely \\n\\nfrom the courtyard he stood close to me and said in a \\n\\nlow voice, \"No hurry, you I ” \\n\\nI looked at him terrified. His grip on my arm was \\n\\nlike a vice. I tried to guess what was going on in his \\n\\nmind and whether he was going to do me some mischief. \\n\\nIf I were to let out a loud and vigorous shriek would \\n\\nsome one above be quick enough to save me? But I \\n\\ngave up the idea. \\n\\n“What is it?” I asked, “what do you want?” \\n\\n\"Oh nothing much, I merely wanted to ask you some- \\n\\nthing. The others needn’t hear.” \\n\\n\"Well? What do you want me to tell you? I must go \\n\\nup, you know.” \\n\\n“I suppose you know who owns the orchard by the \\n\\ncorner mill?” \\n\\n\"No, I don’t. The miller I think.” \\n\\nFranz had put his arm round me and drawn me close ', metadata={'source': './files/Demian test.docx'})]"
      ]
     },
     "execution_count": 4,
     "metadata": {},
     "output_type": "execute_result"
    }
   ],
   "source": [
    "from langchain.chat_models import ChatOpenAI    \n",
    "from langchain.document_loaders import UnstructuredFileLoader\n",
    "\n",
    "loader = UnstructuredFileLoader(\"./files/Demian test.docx\")\n",
    "loader.load()"
   ]
  },
  {
   "cell_type": "markdown",
   "metadata": {},
   "source": [
    "## Split the Documents\n",
    "- docs들을 나눠야 함"
   ]
  },
  {
   "cell_type": "code",
   "execution_count": 14,
   "metadata": {},
   "outputs": [
    {
     "name": "stdout",
     "output_type": "stream",
     "text": [
      "144\n"
     ]
    }
   ],
   "source": [
    "from langchain.chat_models import ChatOpenAI    \n",
    "from langchain.document_loaders import UnstructuredFileLoader\n",
    "from langchain.text_splitter import RecursiveCharacterTextSplitter\n",
    "\n",
    "loader = UnstructuredFileLoader(\"./files/Demian test.docx\")\n",
    "splitter = RecursiveCharacterTextSplitter(\n",
    "    chunk_size=200,\n",
    "    chunk_overlap=100\n",
    ")\n",
    "loader.load_and_split(text_splitter=splitter)\n",
    "print(len(loader.load_and_split(text_splitter=splitter)))"
   ]
  },
  {
   "cell_type": "markdown",
   "metadata": {},
   "source": [
    "- 특정 문자열을 기준으로 나누고 싶을 때"
   ]
  },
  {
   "cell_type": "code",
   "execution_count": 2,
   "metadata": {},
   "outputs": [
    {
     "name": "stdout",
     "output_type": "stream",
     "text": [
      "31\n"
     ]
    }
   ],
   "source": [
    "from langchain.chat_models import ChatOpenAI    \n",
    "from langchain.document_loaders import UnstructuredFileLoader\n",
    "from langchain.text_splitter import CharacterTextSplitter\n",
    "\n",
    "loader = UnstructuredFileLoader(\"./files/Demian test.docx\")\n",
    "splitter = CharacterTextSplitter(\n",
    "    separator=\"\\n\",\n",
    "    chunk_size=600,\n",
    "    chunk_overlap=100,\n",
    ")\n",
    "print(len(loader.load_and_split(text_splitter=splitter)))"
   ]
  },
  {
   "cell_type": "markdown",
   "metadata": {},
   "source": [
    "# 6.2. Tiktoken\n",
    "- platform.openai.com/topkenizer\n",
    "- OpenAI와 일치한 방법으로 counting하는 것."
   ]
  },
  {
   "cell_type": "code",
   "execution_count": 4,
   "metadata": {},
   "outputs": [],
   "source": [
    "from langchain.text_splitter import CharacterTextSplitter\n",
    "\n",
    "splitter = CharacterTextSplitter.from_tiktoken_encoder(\n",
    "    separator=\"\\n\",\n",
    "    chunk_size=600,\n",
    "    chunk_overlap=100,\n",
    ")\n",
    "\n",
    "loader = UnstructuredFileLoader(\"./files/Demian test.docx\")"
   ]
  },
  {
   "cell_type": "markdown",
   "metadata": {},
   "source": [
    "# 6.3. Vectors\n",
    "- https://turbomaze.github.io/word2vecjson/\n",
    "- https://youtu.be/2eWuYf-aZE4?si=iWqaM8fgJpLmGeNq"
   ]
  },
  {
   "cell_type": "markdown",
   "metadata": {},
   "source": [
    "# 6.4. Vector Store\n"
   ]
  },
  {
   "cell_type": "code",
   "execution_count": 8,
   "metadata": {},
   "outputs": [
    {
     "data": {
      "text/plain": [
       "1536"
      ]
     },
     "execution_count": 8,
     "metadata": {},
     "output_type": "execute_result"
    }
   ],
   "source": [
    "from langchain.embeddings import OpenAIEmbeddings\n",
    "\n",
    "embedder = OpenAIEmbeddings()\n",
    "\n",
    "vector = embedder.embed_query(\"Hello, My name is HyeonSeung.\")\n",
    "len(vector)"
   ]
  },
  {
   "cell_type": "code",
   "execution_count": 10,
   "metadata": {},
   "outputs": [
    {
     "name": "stdout",
     "output_type": "stream",
     "text": [
      "4 1536\n"
     ]
    }
   ],
   "source": [
    "vector = embedder.embed_documents([\n",
    "    \"hi\",\n",
    "    \"how\",\n",
    "    \"are\",\n",
    "    \"you doing\"\n",
    "])\n",
    "print(len(vector),len(vector[0]))"
   ]
  },
  {
   "cell_type": "markdown",
   "metadata": {},
   "source": [
    "## Chroma : Vector Store \n",
    "- 이거 어떻게 작동하는지 알아야함"
   ]
  },
  {
   "cell_type": "code",
   "execution_count": 5,
   "metadata": {},
   "outputs": [],
   "source": [
    "from langchain.vectorstores import Chroma \n",
    "from langchain.embeddings import OpenAIEmbeddings\n",
    "from langchain.document_loaders import UnstructuredFileLoader\n",
    "from langchain.text_splitter import CharacterTextSplitter\n",
    "\n",
    "\n",
    "splitter = CharacterTextSplitter.from_tiktoken_encoder(\n",
    "    separator=\"\\n\",\n",
    "    chunk_size=600,\n",
    "    chunk_overlap=100,\n",
    ")\n",
    "\n",
    "loader = UnstructuredFileLoader(\"./files/Demian test.docx\")\n",
    "docs = loader.load_and_split(text_splitter=splitter)\n",
    "\n",
    "embeddings = OpenAIEmbeddings()\n",
    "\n",
    "vectorstore = Chroma.from_documents(docs, embeddings)"
   ]
  },
  {
   "cell_type": "code",
   "execution_count": 6,
   "metadata": {},
   "outputs": [
    {
     "data": {
      "text/plain": [
       "4"
      ]
     },
     "execution_count": 6,
     "metadata": {},
     "output_type": "execute_result"
    }
   ],
   "source": [
    "results = vectorstore.similarity_search(\"Why does the author describe himself not as a scholar, but as a seeker, and how does this self-perception influence his life and the story he tells?\")\n",
    "len(results)"
   ]
  },
  {
   "cell_type": "code",
   "execution_count": 14,
   "metadata": {},
   "outputs": [],
   "source": [
    "from langchain.vectorstores import Chroma \n",
    "from langchain.embeddings import OpenAIEmbeddings, CacheBackedEmbeddings\n",
    "from langchain.storage import LocalFileStore\n",
    "splitter = CharacterTextSplitter.from_tiktoken_encoder(\n",
    "    separator=\"\\n\",\n",
    "    chunk_size=600,\n",
    "    chunk_overlap=100,\n",
    ")\n",
    "\n",
    "loader = UnstructuredFileLoader(\"./files/Demian test.docx\")\n",
    "docs = loader.load_and_split(text_splitter=splitter)\n",
    "\n",
    "\n",
    "cache_dir = LocalFileStore(\"./.cache/\")\n",
    "embeddings = OpenAIEmbeddings()\n",
    "\n",
    "cached_embeddings = CacheBackedEmbeddings.from_bytes_store(\n",
    "    embeddings, cache_dir\n",
    ")\n",
    "vectorstore = Chroma.from_documents(docs, cached_embeddings)\n"
   ]
  },
  {
   "cell_type": "code",
   "execution_count": 15,
   "metadata": {},
   "outputs": [],
   "source": [
    "cache_dir = LocalFileStore(\"./.cache/\")\n",
    "embeddings = OpenAIEmbeddings()\n",
    "\n",
    "cached_embeddings = CacheBackedEmbeddings.from_bytes_store(\n",
    "    embeddings, cache_dir\n",
    ")\n",
    "vectorstore = Chroma.from_documents(docs, cached_embeddings)"
   ]
  },
  {
   "cell_type": "code",
   "execution_count": 13,
   "metadata": {},
   "outputs": [],
   "source": [
    "!mkdir .cache"
   ]
  },
  {
   "cell_type": "markdown",
   "metadata": {},
   "source": [
    "- `![data-connection.jpg](images/data-connection.jpg)`\n",
    "![data-connection.jpg](images/data-connection.jpg)"
   ]
  },
  {
   "cell_type": "markdown",
   "metadata": {},
   "source": [
    "# 6.6. RetrievalQA\n",
    "## LCEL\n",
    "- LangChain Expression Language!! \n",
    "- [https://python.langchain.com/docs/modules/chains/document](https://python.langchain.com/docs/modules/chains/document)"
   ]
  },
  {
   "cell_type": "code",
   "execution_count": 4,
   "metadata": {},
   "outputs": [
    {
     "data": {
      "text/plain": [
       "\"The author describes himself as a seeker rather than a scholar because he is not interested in acquiring knowledge from books or studying the stars. Instead, he seeks wisdom and understanding from within himself and from his own experiences. This self-perception as a seeker influences his life and the story he tells by emphasizing his personal journey of self-discovery and the lessons he learns along the way. He acknowledges that his story is not a pleasant one and does not possess the harmony of invented tales, but rather reflects the mixture of nonsense, chaos, madness, and dreams that make up the lives of those who have stopped deceiving themselves. This self-perception as a seeker allows the author to explore the complexities of human existence and the individual's quest for self-realization.\""
      ]
     },
     "execution_count": 4,
     "metadata": {},
     "output_type": "execute_result"
    }
   ],
   "source": [
    "from langchain.vectorstores import Chroma \n",
    "from langchain.embeddings import OpenAIEmbeddings, CacheBackedEmbeddings\n",
    "from langchain.storage import LocalFileStore\n",
    "from langchain.chains import RetrievalQA\n",
    "from langchain.chat_models import ChatOpenAI\n",
    "from langchain.text_splitter import CharacterTextSplitter\n",
    "from langchain.document_loaders import UnstructuredFileLoader\n",
    "\n",
    "\n",
    "llm = ChatOpenAI(temperature=0.1)\n",
    "\n",
    "splitter = CharacterTextSplitter.from_tiktoken_encoder(\n",
    "    separator=\"\\n\",\n",
    "    chunk_size=600,\n",
    "    chunk_overlap=100,\n",
    ")\n",
    "\n",
    "loader = UnstructuredFileLoader(\"./files/Demian test.docx\")\n",
    "docs = loader.load_and_split(text_splitter=splitter)\n",
    "\n",
    "\n",
    "cache_dir = LocalFileStore(\"./.cache/\")\n",
    "embeddings = OpenAIEmbeddings()\n",
    "\n",
    "cached_embeddings = CacheBackedEmbeddings.from_bytes_store(\n",
    "    embeddings, cache_dir\n",
    ")\n",
    "vectorstore = Chroma.from_documents(docs, cached_embeddings)\n",
    "\n",
    "chain = RetrievalQA.from_chain_type(\n",
    "    llm=llm, \n",
    "    chain_type=\"stuff\",\n",
    "    retriever=vectorstore.as_retriever(),\n",
    ")\n",
    "chain.run(\"Why does the author describe himself not as a scholar, but as a seeker, and how does this self-perception influence his life and the story he tells?\")"
   ]
  },
  {
   "cell_type": "markdown",
   "metadata": {},
   "source": [
    "- Stuff\n",
    "- Refine\n",
    "- Map Reduce\n",
    "- Map ReRank"
   ]
  },
  {
   "cell_type": "code",
   "execution_count": 5,
   "metadata": {},
   "outputs": [
    {
     "data": {
      "text/plain": [
       "'The author describes himself as a seeker rather than a scholar because he is not interested in acquiring knowledge from books or studying the stars. Instead, he is drawn to the lessons that he hears whispering in his blood, suggesting a more intuitive and experiential approach to understanding the world. This self-perception as a seeker influences his life and the story he tells by emphasizing his personal journey of self-discovery and the importance of individual experiences. He acknowledges that his story is not a pleasant one and lacks the gentle harmony of invented tales, but rather is a mixture of nonsense, chaos, madness, and dreams. This suggests that his story is raw and authentic, reflecting the struggles and complexities of being human.'"
      ]
     },
     "execution_count": 5,
     "metadata": {},
     "output_type": "execute_result"
    }
   ],
   "source": [
    "chain = RetrievalQA.from_chain_type(\n",
    "    llm=llm, \n",
    "    chain_type=\"stuff\",\n",
    "    retriever=vectorstore.as_retriever(),\n",
    ")\n",
    "chain.run(\"Why does the author describe himself not as a scholar, but as a seeker, and how does this self-perception influence his life and the story he tells?\")"
   ]
  },
  {
   "cell_type": "markdown",
   "metadata": {},
   "source": [
    "# 6.7. Recap"
   ]
  },
  {
   "cell_type": "markdown",
   "metadata": {},
   "source": [
    "1. load files\n",
    "2. split\n",
    "3. embeddings\n",
    "4. vectorstore\n",
    "5. Search\n",
    "6. Retriever > RetrievalQA \n",
    "- [What is Retriever?](https://python.langchain.com/docs/modules/data_connection/retrievers)"
   ]
  },
  {
   "cell_type": "markdown",
   "metadata": {},
   "source": [
    "# 6.8. Stuff LCEL Chain\n",
    "- [https://python.langchain.com/docs/expression_language/interface](https://python.langchain.com/docs/expression_language/interface)\n",
    "- ![LCEL](images/LCEL.png)"
   ]
  },
  {
   "cell_type": "code",
   "execution_count": 8,
   "metadata": {},
   "outputs": [
    {
     "data": {
      "text/plain": [
       "AIMessage(content=\"The author describes himself as a seeker because he is constantly searching for knowledge and understanding. This self-perception influences his life and the story he tells by shaping his perspective and approach to life. As a seeker, he is open to new experiences and ideas, and he is willing to question and challenge conventional beliefs. This mindset leads him on a journey of self-discovery and exploration, which is reflected in the story he tells. His story is not a pleasant one, as it delves into the complexities of human existence and the struggles of finding one's true self. It is a mixture of nonsense and chaos, madness and dreams, reflecting the author's honest and unfiltered exploration of life.\")"
      ]
     },
     "execution_count": 8,
     "metadata": {},
     "output_type": "execute_result"
    }
   ],
   "source": [
    "from langchain.vectorstores import Chroma , FAISS\n",
    "from langchain.embeddings import OpenAIEmbeddings, CacheBackedEmbeddings\n",
    "from langchain.storage import LocalFileStore\n",
    "from langchain.chains import RetrievalQA\n",
    "from langchain.chat_models import ChatOpenAI\n",
    "from langchain.text_splitter import CharacterTextSplitter\n",
    "from langchain.document_loaders import UnstructuredFileLoader\n",
    "from langchain.prompts import ChatPromptTemplate\n",
    "from langchain.schema.runnable import RunnablePassthrough\n",
    "\n",
    "llm = ChatOpenAI(temperature=0.1)\n",
    "\n",
    "splitter = CharacterTextSplitter.from_tiktoken_encoder(\n",
    "    separator=\"\\n\",\n",
    "    chunk_size=600,\n",
    "    chunk_overlap=100,\n",
    ")\n",
    "\n",
    "loader = UnstructuredFileLoader(\"./files/Demian test.docx\")\n",
    "docs = loader.load_and_split(text_splitter=splitter)\n",
    "\n",
    "\n",
    "cache_dir = LocalFileStore(\"./.cache/\")\n",
    "embeddings = OpenAIEmbeddings()\n",
    "\n",
    "cached_embeddings = CacheBackedEmbeddings.from_bytes_store(\n",
    "    embeddings, cache_dir\n",
    ")\n",
    "vectorstore = FAISS.from_documents(docs, cached_embeddings)\n",
    "\n",
    "\n",
    "retriever = vectorstore.as_retriever()\n",
    "\n",
    "prompt = ChatPromptTemplate.from_messages([\n",
    "    (\"system\", \"You are a helpful assistant. Answer questions using only the following context. if you don't know the answer just say you don't  know, don't make it up:\\n{context}\"),\n",
    "    (\"human\", \"{question}\")\n",
    "])\n",
    "\n",
    "chain = {\"context\": retriever, \n",
    "        \"question\": RunnablePassthrough(),  \n",
    "        } \n",
    "        | prompt \n",
    "        | llm\n",
    "\n",
    "chain.invoke(\"Why does the author describe himself not as a scholar, but as a seeker, and how does this self-perception influence his life and the story he tells?\")"
   ]
  },
  {
   "cell_type": "markdown",
   "metadata": {},
   "source": [
    "# 6.9. Map Reduce LCEL Chain!"
   ]
  },
  {
   "cell_type": "code",
   "execution_count": 2,
   "metadata": {},
   "outputs": [
    {
     "data": {
      "text/plain": [
       "AIMessage(content=\"The author describes himself as a seeker rather than a scholar because he no longer seeks knowledge from books or the stars. Instead, he listens to the lessons whispered in his blood. This self-perception influences his life and the story he tells by emphasizing his personal journey of self-discovery and the importance of individual experiences. He acknowledges that his story may not possess the gentle harmony of invented tales, but rather reflects the mixture of nonsense, chaos, madness, and dreams that make up his life as a seeker. This perspective adds depth and authenticity to his narrative, highlighting the unique and significant nature of every individual's story.\")"
      ]
     },
     "execution_count": 2,
     "metadata": {},
     "output_type": "execute_result"
    }
   ],
   "source": [
    "from langchain.chat_models import ChatOpenAI\n",
    "from langchain.document_loaders import UnstructuredFileLoader\n",
    "from langchain.text_splitter import CharacterTextSplitter\n",
    "from langchain.embeddings import OpenAIEmbeddings, CacheBackedEmbeddings\n",
    "from langchain.vectorstores import FAISS\n",
    "from langchain.storage import LocalFileStore\n",
    "from langchain.prompts import ChatPromptTemplate\n",
    "from langchain.schema.runnable import RunnablePassthrough, RunnableLambda\n",
    "\n",
    "llm = ChatOpenAI(\n",
    "    temperature=0.1,\n",
    ")\n",
    "\n",
    "cache_dir = LocalFileStore(\"./.cache/\")\n",
    "\n",
    "splitter = CharacterTextSplitter.from_tiktoken_encoder(\n",
    "    separator=\"\\n\",\n",
    "    chunk_size=600,\n",
    "    chunk_overlap=100,\n",
    ")\n",
    "loader = UnstructuredFileLoader(\"./files/Demian test.txt\")\n",
    "\n",
    "docs = loader.load_and_split(text_splitter=splitter)\n",
    "\n",
    "embeddings = OpenAIEmbeddings()\n",
    "\n",
    "cached_embeddings = CacheBackedEmbeddings.from_bytes_store(embeddings, cache_dir)\n",
    "\n",
    "vectorstore = FAISS.from_documents(docs, cached_embeddings)\n",
    "\n",
    "retriever = vectorstore.as_retriever()\n",
    "\n",
    "\n",
    "map_doc_prompt = ChatPromptTemplate.from_messages(\n",
    "    [\n",
    "        (\n",
    "            \"system\",\n",
    "            \"\"\"\n",
    "            Use the following portion of a long document to see if any of the text is relevant to answer the question. Return any relevant text verbatim. If there is no relevant text, return : ''\n",
    "            -------\n",
    "            {context}\n",
    "            \"\"\",\n",
    "        ),\n",
    "        (\"human\", \"{question}\"),\n",
    "    ]\n",
    ")\n",
    "\n",
    "map_doc_chain = map_doc_prompt | llm\n",
    "\n",
    "\n",
    "def map_docs(inputs):\n",
    "    documents = inputs[\"documents\"]\n",
    "    question = inputs[\"question\"]\n",
    "    return \"\\n\\n\".join(\n",
    "        map_doc_chain.invoke(\n",
    "            {\"context\": doc.page_content, \"question\": question}\n",
    "        ).content\n",
    "        for doc in documents\n",
    "    )\n",
    "\n",
    "\n",
    "map_chain = {\n",
    "    \"documents\": retriever,\n",
    "    \"question\": RunnablePassthrough(),\n",
    "} | RunnableLambda(map_docs)\n",
    "\n",
    "final_prompt = ChatPromptTemplate.from_messages(\n",
    "    [\n",
    "        (\n",
    "            \"system\",\n",
    "            \"\"\"\n",
    "            Given the following extracted parts of a long document and a question, create a final answer. \n",
    "            If you don't know the answer, just say that you don't know. Don't try to make up an answer.\n",
    "            ------\n",
    "            {context}\n",
    "            \"\"\",\n",
    "        ),\n",
    "        (\"human\", \"{question}\"),\n",
    "    ]\n",
    ")\n",
    "\n",
    "chain = {\"context\": map_chain, \"question\": RunnablePassthrough()} | final_prompt | llm\n",
    "\n",
    "chain.invoke(\"Why does the author describe himself not as a scholar, but as a seeker, and how does this self-perception influence his life and the story he tells?\")"
   ]
  },
  {
   "cell_type": "code",
   "execution_count": null,
   "metadata": {},
   "outputs": [],
   "source": []
  }
 ],
 "metadata": {
  "kernelspec": {
   "display_name": "env",
   "language": "python",
   "name": "python3"
  },
  "language_info": {
   "codemirror_mode": {
    "name": "ipython",
    "version": 3
   },
   "file_extension": ".py",
   "mimetype": "text/x-python",
   "name": "python",
   "nbconvert_exporter": "python",
   "pygments_lexer": "ipython3",
   "version": "3.10.12"
  },
  "orig_nbformat": 4
 },
 "nbformat": 4,
 "nbformat_minor": 2
}
